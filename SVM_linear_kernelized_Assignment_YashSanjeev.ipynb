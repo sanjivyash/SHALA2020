{
  "nbformat": 4,
  "nbformat_minor": 0,
  "metadata": {
    "colab": {
      "name": "SVM_linear_kernelized_Assignment_YashSanjeev.ipynb",
      "provenance": [],
      "collapsed_sections": [],
      "include_colab_link": true
    },
    "kernelspec": {
      "name": "python3",
      "display_name": "Python 3"
    }
  },
  "cells": [
    {
      "cell_type": "markdown",
      "metadata": {
        "id": "view-in-github",
        "colab_type": "text"
      },
      "source": [
        "<a href=\"https://colab.research.google.com/github/sanjivyash/SHALA2020/blob/master/SVM_linear_kernelized_Assignment_YashSanjeev.ipynb\" target=\"_parent\"><img src=\"https://colab.research.google.com/assets/colab-badge.svg\" alt=\"Open In Colab\"/></a>"
      ]
    },
    {
      "cell_type": "markdown",
      "metadata": {
        "id": "arLDVfoh4rOg",
        "colab_type": "text"
      },
      "source": [
        "#**SVM**"
      ]
    },
    {
      "cell_type": "code",
      "metadata": {
        "id": "MEEp0sf04pIP",
        "colab_type": "code",
        "colab": {}
      },
      "source": [
        "import numpy as np\n",
        "import matplotlib.pyplot as plt\n",
        "import random\n",
        "from numpy import linalg as LA"
      ],
      "execution_count": 0,
      "outputs": []
    },
    {
      "cell_type": "markdown",
      "metadata": {
        "id": "vJ2o5DL4478w",
        "colab_type": "text"
      },
      "source": [
        "\n",
        "\n",
        "---\n",
        "\n",
        "\n",
        "**Generating Random linearly separable data**\n",
        "\n",
        "\n",
        "---\n",
        "\n"
      ]
    },
    {
      "cell_type": "code",
      "metadata": {
        "id": "UbaJAhdL5BLA",
        "colab_type": "code",
        "colab": {}
      },
      "source": [
        "data = [[np.random.rand(), np.random.rand()] for i in range(10)]\n",
        "\n",
        "for i, point in enumerate(data):\n",
        "  x, y = point\n",
        "  if 0.5*x - y + 0.25 > 0:\n",
        "    data[i].append(-1)\n",
        "  else:\n",
        "    data[i].append(1)\n",
        "\n"
      ],
      "execution_count": 0,
      "outputs": []
    },
    {
      "cell_type": "markdown",
      "metadata": {
        "id": "S3afrVhJ5FSS",
        "colab_type": "text"
      },
      "source": [
        "\n",
        "\n",
        "---\n",
        "\n",
        "\n",
        "**Visualizing the above data**\n",
        "\n",
        "\n",
        "---\n",
        "\n"
      ]
    },
    {
      "cell_type": "code",
      "metadata": {
        "id": "6x0FkJik5LPi",
        "colab_type": "code",
        "outputId": "36134352-ce04-494a-c240-c68d2a7f5042",
        "colab": {
          "base_uri": "https://localhost:8080/",
          "height": 269
        }
      },
      "source": [
        "for x, y, l in data:\n",
        "  if l == 1: \n",
        "    clr = 'red'\n",
        "  else: \n",
        "    clr = 'blue'\n",
        "  plt.scatter(x, y, c=clr)\n",
        "  plt.xlim(0,1)\n",
        "  plt.ylim(0,1)"
      ],
      "execution_count": 3,
      "outputs": [
        {
          "output_type": "display_data",
          "data": {
            "image/png": "[encoded data removed]",
            "text/plain": [
              "<Figure size 432x288 with 1 Axes>"
            ]
          },
          "metadata": {
            "tags": [],
            "needs_background": "light"
          }
        }
      ]
    },
    {
      "cell_type": "markdown",
      "metadata": {
        "id": "yXabL9FB5Qe1",
        "colab_type": "text"
      },
      "source": [
        "\n",
        "\n",
        "---\n",
        "\n",
        "\n",
        "**Train a SVM classifier using gradient descent and return a Weight Matrix which is a numpy array of length (N + 1) where N is dimension of training samples. You can refer to Fig. 1 in [this](https://www.cs.huji.ac.il/~shais/papers/ShalevSiSrCo10.pdf) paper for implementation. You can add arguments to svm_function according to your implementation.**\n",
        "\n",
        "\n",
        "---\n",
        "\n"
      ]
    },
    {
      "cell_type": "code",
      "metadata": {
        "id": "LpSHX3lT5VDt",
        "colab_type": "code",
        "colab": {}
      },
      "source": [
        "def svm_function(x, Y, epochs = 1000, l_rate = 1e-2, reg = 0.0):\n",
        "    ###################################\n",
        "    ######## write your code here #####\n",
        "    ###################################\n",
        "\n",
        "    y = Y.reshape(-1,1)\n",
        "    N,F = x.shape\n",
        "    X = np.hstack((np.ones((N,1)), x))\n",
        "    W = np.random.randn(F+1, 1)\n",
        "    loss_rec = []\n",
        "\n",
        "    for i in range(epochs):\n",
        "        dW = np.zeros(W.shape)\n",
        "        L = np.maximum(1 - y * X.dot(W), 0)\n",
        "        loss_rec.append(L.sum() + 0.5 * reg * np.sum(W * W))\n",
        "        mask = y.copy()\n",
        "        mask[L == 0] = 0\n",
        "        dW = X.transpose().dot(mask)\n",
        "        W += l_rate * dW - reg * W \n",
        "        \n",
        "\n",
        "    return W, loss_rec"
      ],
      "execution_count": 0,
      "outputs": []
    },
    {
      "cell_type": "markdown",
      "metadata": {
        "id": "-GMSHqOB5Y7n",
        "colab_type": "text"
      },
      "source": [
        "\n",
        "\n",
        "---\n",
        "\n",
        "\n",
        "**Run SVM Classifier**\n",
        "\n",
        "\n",
        "---\n",
        "\n"
      ]
    },
    {
      "cell_type": "code",
      "metadata": {
        "id": "MY2AcFkZ5d2a",
        "colab_type": "code",
        "outputId": "a77b26f6-d7b2-4df9-f4b8-f73d28da1b8e",
        "colab": {
          "base_uri": "https://localhost:8080/",
          "height": 67
        }
      },
      "source": [
        "data = np.asarray(data)\n",
        "X = data[:,:2]\n",
        "Y = data[:,2]\n",
        "w, loss_rec = svm_function(X, Y, 10000, 0.01)\n",
        "print(w)"
      ],
      "execution_count": 53,
      "outputs": [
        {
          "output_type": "stream",
          "text": [
            "[[-1.23666534]\n",
            " [-3.78833702]\n",
            " [ 6.84616109]]\n"
          ],
          "name": "stdout"
        }
      ]
    },
    {
      "cell_type": "code",
      "metadata": {
        "id": "kf-Nz4sORSqa",
        "colab_type": "code",
        "colab": {
          "base_uri": "https://localhost:8080/",
          "height": 282
        },
        "outputId": "b622af0b-8da3-4799-fb26-74e099faefbf"
      },
      "source": [
        "plt.plot(loss_rec)"
      ],
      "execution_count": 54,
      "outputs": [
        {
          "output_type": "execute_result",
          "data": {
            "text/plain": [
              "[<matplotlib.lines.Line2D at 0x7f1a48a0ad30>]"
            ]
          },
          "metadata": {
            "tags": []
          },
          "execution_count": 54
        },
        {
          "output_type": "display_data",
          "data": {
            "image/png": "[encoded data removed]",
            "text/plain": [
              "<Figure size 432x288 with 1 Axes>"
            ]
          },
          "metadata": {
            "tags": [],
            "needs_background": "light"
          }
        }
      ]
    },
    {
      "cell_type": "markdown",
      "metadata": {
        "id": "4t6lPISE5h4e",
        "colab_type": "text"
      },
      "source": [
        "# **Visualize the classifier**\n",
        "\n",
        "\n",
        "---\n",
        "\n",
        "Write a code to draw a lines corrosponding to 'w' vector you got as output from svm_function and for a line from which actual data was generated (0.5*x - y + 0.25). \n",
        "\n",
        "---\n",
        "\n"
      ]
    },
    {
      "cell_type": "code",
      "metadata": {
        "id": "wrCLTSVx5mBF",
        "colab_type": "code",
        "colab": {
          "base_uri": "https://localhost:8080/",
          "height": 269
        },
        "outputId": "8a253ef4-dd42-434d-9b45-3279511c05cb"
      },
      "source": [
        "###################################\n",
        "###### write your code here########\n",
        "###################################\n",
        "\n",
        "x = np.linspace(0,1,1000)\n",
        "y_pred = -(w[0] + w[1] * x) / w[2]\n",
        "y_real = 0.5 * x + 0.25\n",
        "plt.plot(x, y_pred)\n",
        "plt.plot(x, y_real)\n",
        "\n",
        "for x, y, l in data:\n",
        "    if l == 1: \n",
        "        clr = 'red'\n",
        "    else: \n",
        "        clr = 'blue'\n",
        "    plt.scatter(x, y, c=clr)\n",
        "    plt.xlim(0,1)\n",
        "    plt.ylim(0,1)\n",
        "\n",
        "plt.show()"
      ],
      "execution_count": 55,
      "outputs": [
        {
          "output_type": "display_data",
          "data": {
            "image/png": "[encoded data removed]",
            "text/plain": [
              "<Figure size 432x288 with 1 Axes>"
            ]
          },
          "metadata": {
            "tags": [],
            "needs_background": "light"
          }
        }
      ]
    },
    {
      "cell_type": "markdown",
      "metadata": {
        "id": "zSQ2B6IK7pRq",
        "colab_type": "text"
      },
      "source": [
        "#**Linearly Non-separable Data**"
      ]
    },
    {
      "cell_type": "code",
      "metadata": {
        "id": "kZ5Mt_3Z73WS",
        "colab_type": "code",
        "outputId": "21361408-22f3-4943-aaad-15f497dd18db",
        "colab": {
          "base_uri": "https://localhost:8080/",
          "height": 279
        }
      },
      "source": [
        "from sklearn.datasets import make_circles\n",
        "from matplotlib import pyplot as plt\n",
        "from pandas import DataFrame\n",
        "\n",
        "# generate 2d classification dataset\n",
        "X, y = make_circles(n_samples=100, noise=0.05)\n",
        "# scatter plot, dots colored by class value\n",
        "df = DataFrame(dict(x=X[:,0], y=X[:,1], label=y))\n",
        "colors = {0:'red', 1:'blue'}\n",
        "fig, ax = plt.subplots()\n",
        "grouped = df.groupby('label')\n",
        "for key, group in grouped:\n",
        "    group.plot(ax=ax, kind='scatter', x='x', y='y', label=key, color=colors[key])\n",
        "plt.show()\n"
      ],
      "execution_count": 56,
      "outputs": [
        {
          "output_type": "display_data",
          "data": {
            "image/png": "[encoded data removed]",
            "text/plain": [
              "<Figure size 432x288 with 1 Axes>"
            ]
          },
          "metadata": {
            "tags": [],
            "needs_background": "light"
          }
        }
      ]
    },
    {
      "cell_type": "code",
      "metadata": {
        "id": "iPlNv8ymScMT",
        "colab_type": "code",
        "colab": {
          "base_uri": "https://localhost:8080/",
          "height": 195
        },
        "outputId": "7c350a54-0b5b-4606-a466-dff341298ef0"
      },
      "source": [
        "df.head()"
      ],
      "execution_count": 57,
      "outputs": [
        {
          "output_type": "execute_result",
          "data": {
            "text/html": [
              "<div>\n",
              "<style scoped>\n",
              "    .dataframe tbody tr th:only-of-type {\n",
              "        vertical-align: middle;\n",
              "    }\n",
              "\n",
              "    .dataframe tbody tr th {\n",
              "        vertical-align: top;\n",
              "    }\n",
              "\n",
              "    .dataframe thead th {\n",
              "        text-align: right;\n",
              "    }\n",
              "</style>\n",
              "<table border=\"1\" class=\"dataframe\">\n",
              "  <thead>\n",
              "    <tr style=\"text-align: right;\">\n",
              "      <th></th>\n",
              "      <th>x</th>\n",
              "      <th>y</th>\n",
              "      <th>label</th>\n",
              "    </tr>\n",
              "  </thead>\n",
              "  <tbody>\n",
              "    <tr>\n",
              "      <th>0</th>\n",
              "      <td>0.176619</td>\n",
              "      <td>-0.924578</td>\n",
              "      <td>0</td>\n",
              "    </tr>\n",
              "    <tr>\n",
              "      <th>1</th>\n",
              "      <td>0.620559</td>\n",
              "      <td>-0.388415</td>\n",
              "      <td>1</td>\n",
              "    </tr>\n",
              "    <tr>\n",
              "      <th>2</th>\n",
              "      <td>0.054939</td>\n",
              "      <td>0.903509</td>\n",
              "      <td>1</td>\n",
              "    </tr>\n",
              "    <tr>\n",
              "      <th>3</th>\n",
              "      <td>0.918395</td>\n",
              "      <td>0.374600</td>\n",
              "      <td>0</td>\n",
              "    </tr>\n",
              "    <tr>\n",
              "      <th>4</th>\n",
              "      <td>0.000923</td>\n",
              "      <td>0.981647</td>\n",
              "      <td>0</td>\n",
              "    </tr>\n",
              "  </tbody>\n",
              "</table>\n",
              "</div>"
            ],
            "text/plain": [
              "          x         y  label\n",
              "0  0.176619 -0.924578      0\n",
              "1  0.620559 -0.388415      1\n",
              "2  0.054939  0.903509      1\n",
              "3  0.918395  0.374600      0\n",
              "4  0.000923  0.981647      0"
            ]
          },
          "metadata": {
            "tags": []
          },
          "execution_count": 57
        }
      ]
    },
    {
      "cell_type": "markdown",
      "metadata": {
        "id": "SDtuOIuy6xPL",
        "colab_type": "text"
      },
      "source": [
        "\n",
        "\n",
        "---\n",
        "\n",
        "\n",
        "**Train a SVM classifier on the linearly non-separable data by appropriate features crafted from input data For linearly non-separable data, you need to transform the data in a space where it can be linearly seprable.\n",
        "These features can be exponential, polynomial, trignometric or any other function of actual input features.\n",
        "For example, if your input data is (x1, x2) you can have hand-crafted features as (sin(x1), cos(x1), cos(x2), x1-x2).\n",
        "Here you need to think of which hand-crafted features can be best suited for data given to you.\n",
        "Write a function to convert input features to hand-crafted features. Use these features to train a SVM using svm_function.\n",
        "Note that, if you choose to have L hand-crafted features, SVM will return L+1 dimensional 'w'.**\n",
        "\n",
        "\n",
        "---\n",
        "\n"
      ]
    },
    {
      "cell_type": "code",
      "metadata": {
        "id": "yeQnmYCIX7pn",
        "colab_type": "code",
        "colab": {
          "base_uri": "https://localhost:8080/",
          "height": 34
        },
        "outputId": "8ffa849a-5cf5-4165-e2c2-b1c523e9d463"
      },
      "source": [
        "np.asarray(df[[\"x\", \"L2\"]]).shape"
      ],
      "execution_count": 49,
      "outputs": [
        {
          "output_type": "execute_result",
          "data": {
            "text/plain": [
              "(100, 2)"
            ]
          },
          "metadata": {
            "tags": []
          },
          "execution_count": 49
        }
      ]
    },
    {
      "cell_type": "code",
      "metadata": {
        "id": "rZF4nHvz6-2I",
        "colab_type": "code",
        "colab": {
          "base_uri": "https://localhost:8080/",
          "height": 309
        },
        "outputId": "094b6673-b339-4198-f96c-561eb6ed994a"
      },
      "source": [
        "#####################################\n",
        "######## write your code here########\n",
        "#####################################\n",
        "df[\"color\"] = df[\"label\"].apply(lambda x: colors[x])\n",
        "df[\"L2\"] = df[\"x\"] ** 2 + df[\"y\"] ** 2\n",
        "df[\"target\"] = df[\"label\"].apply(lambda x: 1 if x ==1 else -1)\n",
        "df.plot.scatter(x = \"x\", y = \"L2\", c = \"color\")\n",
        "\n",
        "w, loss_rec = svm_function(x = np.asarray(df[[\"x\", \"L2\"]]), Y = np.asarray(df[\"target\"]), reg = 1e-3)\n",
        "x = np.linspace(-1,1,1000)\n",
        "y_pred = -(w[0] + w[1] * x) / w[2]\n",
        "plt.plot(x, y_pred, c = 'green')\n",
        "plt.xlim(-1,1)\n",
        "plt.ylim(0.4,1.2)\n",
        "plt.show()\n",
        "\n",
        "print(w)"
      ],
      "execution_count": 71,
      "outputs": [
        {
          "output_type": "display_data",
          "data": {
            "image/png": "[encoded data removed]",
            "text/plain": [
              "<Figure size 432x288 with 2 Axes>"
            ]
          },
          "metadata": {
            "tags": [],
            "needs_background": "light"
          }
        },
        {
          "output_type": "stream",
          "text": [
            "[[ 7.37225272]\n",
            " [-0.0558547 ]\n",
            " [-8.96204614]]\n"
          ],
          "name": "stdout"
        }
      ]
    },
    {
      "cell_type": "markdown",
      "metadata": {
        "id": "k9RC8lVS81F8",
        "colab_type": "text"
      },
      "source": [
        "\n",
        "\n",
        "---\n",
        "\n",
        "\n",
        "**Visualize the data points in the new feature space \"if possible\" to see whether they got separated or not.**\n",
        "\n",
        "\n",
        "---\n",
        "\n"
      ]
    },
    {
      "cell_type": "code",
      "metadata": {
        "id": "T_M3rNKF7g-W",
        "colab_type": "code",
        "colab": {
          "base_uri": "https://localhost:8080/",
          "height": 309
        },
        "outputId": "d0b3dec3-f07d-4e10-ad3c-9cc27e2e1727"
      },
      "source": [
        "#####################################\n",
        "####### write your code here ########\n",
        "#####################################\n",
        "plt.figure(figsize = (8, 16))\n",
        "df.plot.scatter(x = 'x', y = 'y', c = 'color')\n",
        "x = np.linspace(-1,1,1000)\n",
        "y_pred = np.sqrt(-(w[0] + w[1] * x) / w[2] - x ** 2)\n",
        "plt.plot(x, y_pred, c = 'green')\n",
        "plt.plot(x, -y_pred, c = 'green')\n",
        "plt.show()"
      ],
      "execution_count": 76,
      "outputs": [
        {
          "output_type": "stream",
          "text": [
            "/usr/local/lib/python3.6/dist-packages/ipykernel_launcher.py:5: RuntimeWarning: invalid value encountered in sqrt\n",
            "  \"\"\"\n"
          ],
          "name": "stderr"
        },
        {
          "output_type": "display_data",
          "data": {
            "text/plain": [
              "<Figure size 576x1152 with 0 Axes>"
            ]
          },
          "metadata": {
            "tags": []
          }
        },
        {
          "output_type": "display_data",
          "data": {
            "image/png": "[encoded data removed]",
            "text/plain": [
              "<Figure size 432x288 with 2 Axes>"
            ]
          },
          "metadata": {
            "tags": [],
            "needs_background": "light"
          }
        }
      ]
    }
  ]
}