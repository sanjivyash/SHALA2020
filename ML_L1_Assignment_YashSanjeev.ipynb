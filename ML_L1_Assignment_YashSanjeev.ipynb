{
  "nbformat": 4,
  "nbformat_minor": 0,
  "metadata": {
    "colab": {
      "name": "ML_L1_Assignment_YashSanjeev.ipynb",
      "provenance": [],
      "collapsed_sections": [],
      "include_colab_link": true
    },
    "kernelspec": {
      "name": "python3",
      "display_name": "Python 3"
    }
  },
  "cells": [
    {
      "cell_type": "markdown",
      "metadata": {
        "id": "view-in-github",
        "colab_type": "text"
      },
      "source": [
        "<a href=\"https://colab.research.google.com/github/sanjivyash/SHALA2020/blob/master/ML_L1_Assignment_YashSanjeev.ipynb\" target=\"_parent\"><img src=\"https://colab.research.google.com/assets/colab-badge.svg\" alt=\"Open In Colab\"/></a>"
      ]
    },
    {
      "cell_type": "markdown",
      "metadata": {
        "id": "_lnS8bdSWnuK",
        "colab_type": "text"
      },
      "source": [
        "# **Assignment 1** (Intro to Machine Learning)"
      ]
    },
    {
      "cell_type": "markdown",
      "metadata": {
        "id": "a0_VaZIOWzut",
        "colab_type": "text"
      },
      "source": [
        "## Note:\n",
        "\n",
        "* The dataset to be used is `attrition.csv`. This dataset reveals whether a particular employee left the company or not.  \n",
        "* In this dataset, the column named `Attrition` is the target variable and the remaining columns are features. Please note that `Attrition = 1` means the employee left the company, whereas `Attrition = 0` means the opposite of this statement. \n",
        "*  This dataset has been loaded in this assignment as shown below. In case, you are not able to load this data, please note that this data is stored separately as well in the assignment folder. "
      ]
    },
    {
      "cell_type": "code",
      "metadata": {
        "id": "7bF8pLu6VdCg",
        "colab_type": "code",
        "colab": {
          "base_uri": "https://localhost:8080/",
          "height": 70
        },
        "outputId": "f097576d-8d1c-46dd-e257-b749c5ca535f"
      },
      "source": [
        "import pandas as pd\n",
        "import numpy as np\n",
        "import sklearn\n",
        "import matplotlib.pyplot as plt\n",
        "import seaborn as sns"
      ],
      "execution_count": 1,
      "outputs": [
        {
          "output_type": "stream",
          "text": [
            "/usr/local/lib/python3.6/dist-packages/statsmodels/tools/_testing.py:19: FutureWarning: pandas.util.testing is deprecated. Use the functions in the public API at pandas.testing instead.\n",
            "  import pandas.util.testing as tm\n"
          ],
          "name": "stderr"
        }
      ]
    },
    {
      "cell_type": "code",
      "metadata": {
        "id": "nM4DFo_fE6uc",
        "colab_type": "code",
        "colab": {
          "base_uri": "https://localhost:8080/",
          "height": 104
        },
        "outputId": "13b85ebf-7451-4214-f3f3-bcf8f66c72c6"
      },
      "source": [
        "from imblearn.over_sampling import SMOTE"
      ],
      "execution_count": 2,
      "outputs": [
        {
          "output_type": "stream",
          "text": [
            "/usr/local/lib/python3.6/dist-packages/sklearn/externals/six.py:31: FutureWarning: The module is deprecated in version 0.21 and will be removed in version 0.23 since we've dropped support for Python 2.7. Please rely on the official version of six (https://pypi.org/project/six/).\n",
            "  \"(https://pypi.org/project/six/).\", FutureWarning)\n",
            "/usr/local/lib/python3.6/dist-packages/sklearn/utils/deprecation.py:144: FutureWarning: The sklearn.neighbors.base module is  deprecated in version 0.22 and will be removed in version 0.24. The corresponding classes / functions should instead be imported from sklearn.neighbors. Anything that cannot be imported from sklearn.neighbors is now part of the private API.\n",
            "  warnings.warn(message, FutureWarning)\n"
          ],
          "name": "stderr"
        }
      ]
    },
    {
      "cell_type": "code",
      "metadata": {
        "id": "5ABlrvQjXFgv",
        "colab_type": "code",
        "colab": {}
      },
      "source": [
        "data_url = \"https://raw.githubusercontent.com/shala2020/shala2020.github.io/master/Lecture_Materials/Assignments/MachineLearning/L1/attrition.csv\"\n",
        "attrition_data = pd.read_csv(data_url)"
      ],
      "execution_count": 0,
      "outputs": []
    },
    {
      "cell_type": "code",
      "metadata": {
        "id": "ljGWG-REXpeg",
        "colab_type": "code",
        "outputId": "d07b56be-9eff-49c1-a80c-85807df1a3a5",
        "colab": {
          "base_uri": "https://localhost:8080/",
          "height": 299
        }
      },
      "source": [
        "attrition_data.head()"
      ],
      "execution_count": 4,
      "outputs": [
        {
          "output_type": "execute_result",
          "data": {
            "text/html": [
              "<div>\n",
              "<style scoped>\n",
              "    .dataframe tbody tr th:only-of-type {\n",
              "        vertical-align: middle;\n",
              "    }\n",
              "\n",
              "    .dataframe tbody tr th {\n",
              "        vertical-align: top;\n",
              "    }\n",
              "\n",
              "    .dataframe thead th {\n",
              "        text-align: right;\n",
              "    }\n",
              "</style>\n",
              "<table border=\"1\" class=\"dataframe\">\n",
              "  <thead>\n",
              "    <tr style=\"text-align: right;\">\n",
              "      <th></th>\n",
              "      <th>Age</th>\n",
              "      <th>Attrition</th>\n",
              "      <th>BusinessTravel</th>\n",
              "      <th>DailyRate</th>\n",
              "      <th>Department</th>\n",
              "      <th>DistanceFromHome</th>\n",
              "      <th>Education</th>\n",
              "      <th>EducationField</th>\n",
              "      <th>EmployeeCount</th>\n",
              "      <th>EmployeeNumber</th>\n",
              "      <th>EnvironmentSatisfaction</th>\n",
              "      <th>Gender</th>\n",
              "      <th>HourlyRate</th>\n",
              "      <th>JobInvolvement</th>\n",
              "      <th>JobLevel</th>\n",
              "      <th>JobRole</th>\n",
              "      <th>JobSatisfaction</th>\n",
              "      <th>MaritalStatus</th>\n",
              "      <th>MonthlyIncome</th>\n",
              "      <th>MonthlyRate</th>\n",
              "      <th>NumCompaniesWorked</th>\n",
              "      <th>OverTime</th>\n",
              "      <th>PercentSalaryHike</th>\n",
              "      <th>PerformanceRating</th>\n",
              "      <th>RelationshipSatisfaction</th>\n",
              "      <th>StockOptionLevel</th>\n",
              "      <th>TotalWorkingYears</th>\n",
              "      <th>TrainingTimesLastYear</th>\n",
              "      <th>WorkLifeBalance</th>\n",
              "      <th>YearsAtCompany</th>\n",
              "      <th>YearsInCurrentRole</th>\n",
              "      <th>YearsSinceLastPromotion</th>\n",
              "      <th>YearsWithCurrManager</th>\n",
              "      <th>ID</th>\n",
              "    </tr>\n",
              "  </thead>\n",
              "  <tbody>\n",
              "    <tr>\n",
              "      <th>0</th>\n",
              "      <td>41</td>\n",
              "      <td>1</td>\n",
              "      <td>Travel_Rarely</td>\n",
              "      <td>1102</td>\n",
              "      <td>Sales</td>\n",
              "      <td>1</td>\n",
              "      <td>2</td>\n",
              "      <td>Life Sciences</td>\n",
              "      <td>1</td>\n",
              "      <td>1</td>\n",
              "      <td>2</td>\n",
              "      <td>Female</td>\n",
              "      <td>94</td>\n",
              "      <td>3</td>\n",
              "      <td>2</td>\n",
              "      <td>Sales Executive</td>\n",
              "      <td>4</td>\n",
              "      <td>Single</td>\n",
              "      <td>5993</td>\n",
              "      <td>19479</td>\n",
              "      <td>8</td>\n",
              "      <td>Yes</td>\n",
              "      <td>11</td>\n",
              "      <td>3</td>\n",
              "      <td>1</td>\n",
              "      <td>0</td>\n",
              "      <td>8</td>\n",
              "      <td>0</td>\n",
              "      <td>1</td>\n",
              "      <td>6</td>\n",
              "      <td>4</td>\n",
              "      <td>0</td>\n",
              "      <td>5</td>\n",
              "      <td>0</td>\n",
              "    </tr>\n",
              "    <tr>\n",
              "      <th>1</th>\n",
              "      <td>49</td>\n",
              "      <td>0</td>\n",
              "      <td>Travel_Frequently</td>\n",
              "      <td>279</td>\n",
              "      <td>Research &amp; Development</td>\n",
              "      <td>8</td>\n",
              "      <td>1</td>\n",
              "      <td>Life Sciences</td>\n",
              "      <td>1</td>\n",
              "      <td>2</td>\n",
              "      <td>3</td>\n",
              "      <td>Male</td>\n",
              "      <td>61</td>\n",
              "      <td>2</td>\n",
              "      <td>2</td>\n",
              "      <td>Research Scientist</td>\n",
              "      <td>2</td>\n",
              "      <td>Married</td>\n",
              "      <td>5130</td>\n",
              "      <td>24907</td>\n",
              "      <td>1</td>\n",
              "      <td>No</td>\n",
              "      <td>23</td>\n",
              "      <td>4</td>\n",
              "      <td>4</td>\n",
              "      <td>1</td>\n",
              "      <td>10</td>\n",
              "      <td>3</td>\n",
              "      <td>3</td>\n",
              "      <td>10</td>\n",
              "      <td>7</td>\n",
              "      <td>1</td>\n",
              "      <td>7</td>\n",
              "      <td>1</td>\n",
              "    </tr>\n",
              "    <tr>\n",
              "      <th>2</th>\n",
              "      <td>37</td>\n",
              "      <td>1</td>\n",
              "      <td>Travel_Rarely</td>\n",
              "      <td>1373</td>\n",
              "      <td>Research &amp; Development</td>\n",
              "      <td>2</td>\n",
              "      <td>2</td>\n",
              "      <td>Other</td>\n",
              "      <td>1</td>\n",
              "      <td>4</td>\n",
              "      <td>4</td>\n",
              "      <td>Male</td>\n",
              "      <td>92</td>\n",
              "      <td>2</td>\n",
              "      <td>1</td>\n",
              "      <td>Laboratory Technician</td>\n",
              "      <td>3</td>\n",
              "      <td>Single</td>\n",
              "      <td>2090</td>\n",
              "      <td>2396</td>\n",
              "      <td>6</td>\n",
              "      <td>Yes</td>\n",
              "      <td>15</td>\n",
              "      <td>3</td>\n",
              "      <td>2</td>\n",
              "      <td>0</td>\n",
              "      <td>7</td>\n",
              "      <td>3</td>\n",
              "      <td>3</td>\n",
              "      <td>0</td>\n",
              "      <td>0</td>\n",
              "      <td>0</td>\n",
              "      <td>0</td>\n",
              "      <td>2</td>\n",
              "    </tr>\n",
              "    <tr>\n",
              "      <th>3</th>\n",
              "      <td>33</td>\n",
              "      <td>0</td>\n",
              "      <td>Travel_Frequently</td>\n",
              "      <td>1392</td>\n",
              "      <td>Research &amp; Development</td>\n",
              "      <td>3</td>\n",
              "      <td>4</td>\n",
              "      <td>Life Sciences</td>\n",
              "      <td>1</td>\n",
              "      <td>5</td>\n",
              "      <td>4</td>\n",
              "      <td>Female</td>\n",
              "      <td>56</td>\n",
              "      <td>3</td>\n",
              "      <td>1</td>\n",
              "      <td>Research Scientist</td>\n",
              "      <td>3</td>\n",
              "      <td>Married</td>\n",
              "      <td>2909</td>\n",
              "      <td>23159</td>\n",
              "      <td>1</td>\n",
              "      <td>Yes</td>\n",
              "      <td>11</td>\n",
              "      <td>3</td>\n",
              "      <td>3</td>\n",
              "      <td>0</td>\n",
              "      <td>8</td>\n",
              "      <td>3</td>\n",
              "      <td>3</td>\n",
              "      <td>8</td>\n",
              "      <td>7</td>\n",
              "      <td>3</td>\n",
              "      <td>0</td>\n",
              "      <td>3</td>\n",
              "    </tr>\n",
              "    <tr>\n",
              "      <th>4</th>\n",
              "      <td>27</td>\n",
              "      <td>0</td>\n",
              "      <td>Travel_Rarely</td>\n",
              "      <td>591</td>\n",
              "      <td>Research &amp; Development</td>\n",
              "      <td>2</td>\n",
              "      <td>1</td>\n",
              "      <td>Medical</td>\n",
              "      <td>1</td>\n",
              "      <td>7</td>\n",
              "      <td>1</td>\n",
              "      <td>Male</td>\n",
              "      <td>40</td>\n",
              "      <td>3</td>\n",
              "      <td>1</td>\n",
              "      <td>Laboratory Technician</td>\n",
              "      <td>2</td>\n",
              "      <td>Married</td>\n",
              "      <td>3468</td>\n",
              "      <td>16632</td>\n",
              "      <td>9</td>\n",
              "      <td>No</td>\n",
              "      <td>12</td>\n",
              "      <td>3</td>\n",
              "      <td>4</td>\n",
              "      <td>1</td>\n",
              "      <td>6</td>\n",
              "      <td>3</td>\n",
              "      <td>3</td>\n",
              "      <td>2</td>\n",
              "      <td>2</td>\n",
              "      <td>2</td>\n",
              "      <td>2</td>\n",
              "      <td>4</td>\n",
              "    </tr>\n",
              "  </tbody>\n",
              "</table>\n",
              "</div>"
            ],
            "text/plain": [
              "   Age  Attrition  ... YearsWithCurrManager  ID\n",
              "0   41          1  ...                    5   0\n",
              "1   49          0  ...                    7   1\n",
              "2   37          1  ...                    0   2\n",
              "3   33          0  ...                    0   3\n",
              "4   27          0  ...                    2   4\n",
              "\n",
              "[5 rows x 34 columns]"
            ]
          },
          "metadata": {
            "tags": []
          },
          "execution_count": 4
        }
      ]
    },
    {
      "cell_type": "markdown",
      "metadata": {
        "id": "aiByk21xYXod",
        "colab_type": "text"
      },
      "source": [
        "## Instructions:\n",
        "\n",
        "* You are required to use a classifier, which can predict the `Attrition` for the employees. \n",
        "* Before implementing any model, you will have to apply suitable encoding to the features and implement exploratory data analysis to know your data better. \n",
        "* You can either define your own custom-made classifer or select classifier(s) available in the `scikit-learn`.\n",
        "* You are supposed to implement a minimum of three classifiers (e.g.  `RandomForestClassifier`, `XGBClassifier`, `DecisionTreeClassifier`, `KNeighborsClassifier`, etc.) and evaluate which one is giving the best peformance. \n",
        "* For each of the classifier,  report the accuracy, precision, recall, roc curve, etc. "
      ]
    },
    {
      "cell_type": "markdown",
      "metadata": {
        "id": "nllQoVh11G1E",
        "colab_type": "text"
      },
      "source": [
        "Since the classes are imbalanced, I copied the data of the lower frequency class"
      ]
    },
    {
      "cell_type": "code",
      "metadata": {
        "id": "KHatoj_G_Mhs",
        "colab_type": "code",
        "colab": {}
      },
      "source": [
        "y = attrition_data.Attrition\n",
        "X = attrition_data.drop(\"Attrition\", axis = 1)"
      ],
      "execution_count": 0,
      "outputs": []
    },
    {
      "cell_type": "code",
      "metadata": {
        "id": "2hAVu6r9HcKN",
        "colab_type": "code",
        "outputId": "3629ad4a-65a3-4bdb-ca1b-85fbe03cf8a3",
        "colab": {
          "base_uri": "https://localhost:8080/",
          "height": 588
        }
      },
      "source": [
        "X.dtypes"
      ],
      "execution_count": 6,
      "outputs": [
        {
          "output_type": "execute_result",
          "data": {
            "text/plain": [
              "Age                          int64\n",
              "BusinessTravel              object\n",
              "DailyRate                    int64\n",
              "Department                  object\n",
              "DistanceFromHome             int64\n",
              "Education                    int64\n",
              "EducationField              object\n",
              "EmployeeCount                int64\n",
              "EmployeeNumber               int64\n",
              "EnvironmentSatisfaction      int64\n",
              "Gender                      object\n",
              "HourlyRate                   int64\n",
              "JobInvolvement               int64\n",
              "JobLevel                     int64\n",
              "JobRole                     object\n",
              "JobSatisfaction              int64\n",
              "MaritalStatus               object\n",
              "MonthlyIncome                int64\n",
              "MonthlyRate                  int64\n",
              "NumCompaniesWorked           int64\n",
              "OverTime                    object\n",
              "PercentSalaryHike            int64\n",
              "PerformanceRating            int64\n",
              "RelationshipSatisfaction     int64\n",
              "StockOptionLevel             int64\n",
              "TotalWorkingYears            int64\n",
              "TrainingTimesLastYear        int64\n",
              "WorkLifeBalance              int64\n",
              "YearsAtCompany               int64\n",
              "YearsInCurrentRole           int64\n",
              "YearsSinceLastPromotion      int64\n",
              "YearsWithCurrManager         int64\n",
              "ID                           int64\n",
              "dtype: object"
            ]
          },
          "metadata": {
            "tags": []
          },
          "execution_count": 6
        }
      ]
    },
    {
      "cell_type": "code",
      "metadata": {
        "id": "hWnswSAXJMdL",
        "colab_type": "code",
        "outputId": "b105ba7c-0425-428f-fd89-57f9227a6209",
        "colab": {
          "base_uri": "https://localhost:8080/",
          "height": 195
        }
      },
      "source": [
        "# experimenting the working of different methods\n",
        "a = pd.get_dummies(X[\"BusinessTravel\"])\n",
        "a = a.drop(\"Non-Travel\", axis = 1)\n",
        "b = pd.get_dummies(X[\"Department\"])\n",
        "pd.concat([b,a],axis=1).head()"
      ],
      "execution_count": 7,
      "outputs": [
        {
          "output_type": "execute_result",
          "data": {
            "text/html": [
              "<div>\n",
              "<style scoped>\n",
              "    .dataframe tbody tr th:only-of-type {\n",
              "        vertical-align: middle;\n",
              "    }\n",
              "\n",
              "    .dataframe tbody tr th {\n",
              "        vertical-align: top;\n",
              "    }\n",
              "\n",
              "    .dataframe thead th {\n",
              "        text-align: right;\n",
              "    }\n",
              "</style>\n",
              "<table border=\"1\" class=\"dataframe\">\n",
              "  <thead>\n",
              "    <tr style=\"text-align: right;\">\n",
              "      <th></th>\n",
              "      <th>Human Resources</th>\n",
              "      <th>Research &amp; Development</th>\n",
              "      <th>Sales</th>\n",
              "      <th>Travel_Frequently</th>\n",
              "      <th>Travel_Rarely</th>\n",
              "    </tr>\n",
              "  </thead>\n",
              "  <tbody>\n",
              "    <tr>\n",
              "      <th>0</th>\n",
              "      <td>0</td>\n",
              "      <td>0</td>\n",
              "      <td>1</td>\n",
              "      <td>0</td>\n",
              "      <td>1</td>\n",
              "    </tr>\n",
              "    <tr>\n",
              "      <th>1</th>\n",
              "      <td>0</td>\n",
              "      <td>1</td>\n",
              "      <td>0</td>\n",
              "      <td>1</td>\n",
              "      <td>0</td>\n",
              "    </tr>\n",
              "    <tr>\n",
              "      <th>2</th>\n",
              "      <td>0</td>\n",
              "      <td>1</td>\n",
              "      <td>0</td>\n",
              "      <td>0</td>\n",
              "      <td>1</td>\n",
              "    </tr>\n",
              "    <tr>\n",
              "      <th>3</th>\n",
              "      <td>0</td>\n",
              "      <td>1</td>\n",
              "      <td>0</td>\n",
              "      <td>1</td>\n",
              "      <td>0</td>\n",
              "    </tr>\n",
              "    <tr>\n",
              "      <th>4</th>\n",
              "      <td>0</td>\n",
              "      <td>1</td>\n",
              "      <td>0</td>\n",
              "      <td>0</td>\n",
              "      <td>1</td>\n",
              "    </tr>\n",
              "  </tbody>\n",
              "</table>\n",
              "</div>"
            ],
            "text/plain": [
              "   Human Resources  Research & Development  ...  Travel_Frequently  Travel_Rarely\n",
              "0                0                       0  ...                  0              1\n",
              "1                0                       1  ...                  1              0\n",
              "2                0                       1  ...                  0              1\n",
              "3                0                       1  ...                  1              0\n",
              "4                0                       1  ...                  0              1\n",
              "\n",
              "[5 rows x 5 columns]"
            ]
          },
          "metadata": {
            "tags": []
          },
          "execution_count": 7
        }
      ]
    },
    {
      "cell_type": "code",
      "metadata": {
        "id": "kcpnNM9h3Jy5",
        "colab_type": "code",
        "outputId": "83528371-0e54-4a63-ce8c-d3a2bcc764f3",
        "colab": {
          "base_uri": "https://localhost:8080/",
          "height": 34
        }
      },
      "source": [
        "X[\"Age\"].dtypes"
      ],
      "execution_count": 8,
      "outputs": [
        {
          "output_type": "execute_result",
          "data": {
            "text/plain": [
              "dtype('int64')"
            ]
          },
          "metadata": {
            "tags": []
          },
          "execution_count": 8
        }
      ]
    },
    {
      "cell_type": "code",
      "metadata": {
        "id": "KDY_xp7N2j_c",
        "colab_type": "code",
        "outputId": "a8b0442d-39c8-43f6-d603-73f21580e46e",
        "colab": {
          "base_uri": "https://localhost:8080/",
          "height": 34
        }
      },
      "source": [
        "isinstance(X[\"Age\"][0], np.int64)"
      ],
      "execution_count": 9,
      "outputs": [
        {
          "output_type": "execute_result",
          "data": {
            "text/plain": [
              "True"
            ]
          },
          "metadata": {
            "tags": []
          },
          "execution_count": 9
        }
      ]
    },
    {
      "cell_type": "code",
      "metadata": {
        "id": "gXV6Jyi3ADAY",
        "colab_type": "code",
        "outputId": "94d2b399-94b3-4657-876b-463d20620735",
        "colab": {
          "base_uri": "https://localhost:8080/",
          "height": 232
        }
      },
      "source": [
        "for name in X.columns:\n",
        "    if not (isinstance(X[name][0], np.int64) or isinstance(X[name][0], np.uint8)):\n",
        "        temp = pd.get_dummies(X[name])\n",
        "        X = X.drop(name, axis = 1)\n",
        "        X = pd.concat([X,temp], axis = 1)\n",
        "\n",
        "X.head()"
      ],
      "execution_count": 10,
      "outputs": [
        {
          "output_type": "execute_result",
          "data": {
            "text/html": [
              "<div>\n",
              "<style scoped>\n",
              "    .dataframe tbody tr th:only-of-type {\n",
              "        vertical-align: middle;\n",
              "    }\n",
              "\n",
              "    .dataframe tbody tr th {\n",
              "        vertical-align: top;\n",
              "    }\n",
              "\n",
              "    .dataframe thead th {\n",
              "        text-align: right;\n",
              "    }\n",
              "</style>\n",
              "<table border=\"1\" class=\"dataframe\">\n",
              "  <thead>\n",
              "    <tr style=\"text-align: right;\">\n",
              "      <th></th>\n",
              "      <th>Age</th>\n",
              "      <th>DailyRate</th>\n",
              "      <th>DistanceFromHome</th>\n",
              "      <th>Education</th>\n",
              "      <th>EmployeeCount</th>\n",
              "      <th>EmployeeNumber</th>\n",
              "      <th>EnvironmentSatisfaction</th>\n",
              "      <th>HourlyRate</th>\n",
              "      <th>JobInvolvement</th>\n",
              "      <th>JobLevel</th>\n",
              "      <th>JobSatisfaction</th>\n",
              "      <th>MonthlyIncome</th>\n",
              "      <th>MonthlyRate</th>\n",
              "      <th>NumCompaniesWorked</th>\n",
              "      <th>PercentSalaryHike</th>\n",
              "      <th>PerformanceRating</th>\n",
              "      <th>RelationshipSatisfaction</th>\n",
              "      <th>StockOptionLevel</th>\n",
              "      <th>TotalWorkingYears</th>\n",
              "      <th>TrainingTimesLastYear</th>\n",
              "      <th>WorkLifeBalance</th>\n",
              "      <th>YearsAtCompany</th>\n",
              "      <th>YearsInCurrentRole</th>\n",
              "      <th>YearsSinceLastPromotion</th>\n",
              "      <th>YearsWithCurrManager</th>\n",
              "      <th>ID</th>\n",
              "      <th>Non-Travel</th>\n",
              "      <th>Travel_Frequently</th>\n",
              "      <th>Travel_Rarely</th>\n",
              "      <th>Human Resources</th>\n",
              "      <th>Research &amp; Development</th>\n",
              "      <th>Sales</th>\n",
              "      <th>Human Resources</th>\n",
              "      <th>Life Sciences</th>\n",
              "      <th>Marketing</th>\n",
              "      <th>Medical</th>\n",
              "      <th>Other</th>\n",
              "      <th>Technical Degree</th>\n",
              "      <th>Female</th>\n",
              "      <th>Male</th>\n",
              "      <th>Healthcare Representative</th>\n",
              "      <th>Human Resources</th>\n",
              "      <th>Laboratory Technician</th>\n",
              "      <th>Manager</th>\n",
              "      <th>Manufacturing Director</th>\n",
              "      <th>Research Director</th>\n",
              "      <th>Research Scientist</th>\n",
              "      <th>Sales Executive</th>\n",
              "      <th>Sales Representative</th>\n",
              "      <th>Divorced</th>\n",
              "      <th>Married</th>\n",
              "      <th>Single</th>\n",
              "      <th>No</th>\n",
              "      <th>Yes</th>\n",
              "    </tr>\n",
              "  </thead>\n",
              "  <tbody>\n",
              "    <tr>\n",
              "      <th>0</th>\n",
              "      <td>41</td>\n",
              "      <td>1102</td>\n",
              "      <td>1</td>\n",
              "      <td>2</td>\n",
              "      <td>1</td>\n",
              "      <td>1</td>\n",
              "      <td>2</td>\n",
              "      <td>94</td>\n",
              "      <td>3</td>\n",
              "      <td>2</td>\n",
              "      <td>4</td>\n",
              "      <td>5993</td>\n",
              "      <td>19479</td>\n",
              "      <td>8</td>\n",
              "      <td>11</td>\n",
              "      <td>3</td>\n",
              "      <td>1</td>\n",
              "      <td>0</td>\n",
              "      <td>8</td>\n",
              "      <td>0</td>\n",
              "      <td>1</td>\n",
              "      <td>6</td>\n",
              "      <td>4</td>\n",
              "      <td>0</td>\n",
              "      <td>5</td>\n",
              "      <td>0</td>\n",
              "      <td>0</td>\n",
              "      <td>0</td>\n",
              "      <td>1</td>\n",
              "      <td>0</td>\n",
              "      <td>0</td>\n",
              "      <td>1</td>\n",
              "      <td>0</td>\n",
              "      <td>1</td>\n",
              "      <td>0</td>\n",
              "      <td>0</td>\n",
              "      <td>0</td>\n",
              "      <td>0</td>\n",
              "      <td>1</td>\n",
              "      <td>0</td>\n",
              "      <td>0</td>\n",
              "      <td>0</td>\n",
              "      <td>0</td>\n",
              "      <td>0</td>\n",
              "      <td>0</td>\n",
              "      <td>0</td>\n",
              "      <td>0</td>\n",
              "      <td>1</td>\n",
              "      <td>0</td>\n",
              "      <td>0</td>\n",
              "      <td>0</td>\n",
              "      <td>1</td>\n",
              "      <td>0</td>\n",
              "      <td>1</td>\n",
              "    </tr>\n",
              "    <tr>\n",
              "      <th>1</th>\n",
              "      <td>49</td>\n",
              "      <td>279</td>\n",
              "      <td>8</td>\n",
              "      <td>1</td>\n",
              "      <td>1</td>\n",
              "      <td>2</td>\n",
              "      <td>3</td>\n",
              "      <td>61</td>\n",
              "      <td>2</td>\n",
              "      <td>2</td>\n",
              "      <td>2</td>\n",
              "      <td>5130</td>\n",
              "      <td>24907</td>\n",
              "      <td>1</td>\n",
              "      <td>23</td>\n",
              "      <td>4</td>\n",
              "      <td>4</td>\n",
              "      <td>1</td>\n",
              "      <td>10</td>\n",
              "      <td>3</td>\n",
              "      <td>3</td>\n",
              "      <td>10</td>\n",
              "      <td>7</td>\n",
              "      <td>1</td>\n",
              "      <td>7</td>\n",
              "      <td>1</td>\n",
              "      <td>0</td>\n",
              "      <td>1</td>\n",
              "      <td>0</td>\n",
              "      <td>0</td>\n",
              "      <td>1</td>\n",
              "      <td>0</td>\n",
              "      <td>0</td>\n",
              "      <td>1</td>\n",
              "      <td>0</td>\n",
              "      <td>0</td>\n",
              "      <td>0</td>\n",
              "      <td>0</td>\n",
              "      <td>0</td>\n",
              "      <td>1</td>\n",
              "      <td>0</td>\n",
              "      <td>0</td>\n",
              "      <td>0</td>\n",
              "      <td>0</td>\n",
              "      <td>0</td>\n",
              "      <td>0</td>\n",
              "      <td>1</td>\n",
              "      <td>0</td>\n",
              "      <td>0</td>\n",
              "      <td>0</td>\n",
              "      <td>1</td>\n",
              "      <td>0</td>\n",
              "      <td>1</td>\n",
              "      <td>0</td>\n",
              "    </tr>\n",
              "    <tr>\n",
              "      <th>2</th>\n",
              "      <td>37</td>\n",
              "      <td>1373</td>\n",
              "      <td>2</td>\n",
              "      <td>2</td>\n",
              "      <td>1</td>\n",
              "      <td>4</td>\n",
              "      <td>4</td>\n",
              "      <td>92</td>\n",
              "      <td>2</td>\n",
              "      <td>1</td>\n",
              "      <td>3</td>\n",
              "      <td>2090</td>\n",
              "      <td>2396</td>\n",
              "      <td>6</td>\n",
              "      <td>15</td>\n",
              "      <td>3</td>\n",
              "      <td>2</td>\n",
              "      <td>0</td>\n",
              "      <td>7</td>\n",
              "      <td>3</td>\n",
              "      <td>3</td>\n",
              "      <td>0</td>\n",
              "      <td>0</td>\n",
              "      <td>0</td>\n",
              "      <td>0</td>\n",
              "      <td>2</td>\n",
              "      <td>0</td>\n",
              "      <td>0</td>\n",
              "      <td>1</td>\n",
              "      <td>0</td>\n",
              "      <td>1</td>\n",
              "      <td>0</td>\n",
              "      <td>0</td>\n",
              "      <td>0</td>\n",
              "      <td>0</td>\n",
              "      <td>0</td>\n",
              "      <td>1</td>\n",
              "      <td>0</td>\n",
              "      <td>0</td>\n",
              "      <td>1</td>\n",
              "      <td>0</td>\n",
              "      <td>0</td>\n",
              "      <td>1</td>\n",
              "      <td>0</td>\n",
              "      <td>0</td>\n",
              "      <td>0</td>\n",
              "      <td>0</td>\n",
              "      <td>0</td>\n",
              "      <td>0</td>\n",
              "      <td>0</td>\n",
              "      <td>0</td>\n",
              "      <td>1</td>\n",
              "      <td>0</td>\n",
              "      <td>1</td>\n",
              "    </tr>\n",
              "    <tr>\n",
              "      <th>3</th>\n",
              "      <td>33</td>\n",
              "      <td>1392</td>\n",
              "      <td>3</td>\n",
              "      <td>4</td>\n",
              "      <td>1</td>\n",
              "      <td>5</td>\n",
              "      <td>4</td>\n",
              "      <td>56</td>\n",
              "      <td>3</td>\n",
              "      <td>1</td>\n",
              "      <td>3</td>\n",
              "      <td>2909</td>\n",
              "      <td>23159</td>\n",
              "      <td>1</td>\n",
              "      <td>11</td>\n",
              "      <td>3</td>\n",
              "      <td>3</td>\n",
              "      <td>0</td>\n",
              "      <td>8</td>\n",
              "      <td>3</td>\n",
              "      <td>3</td>\n",
              "      <td>8</td>\n",
              "      <td>7</td>\n",
              "      <td>3</td>\n",
              "      <td>0</td>\n",
              "      <td>3</td>\n",
              "      <td>0</td>\n",
              "      <td>1</td>\n",
              "      <td>0</td>\n",
              "      <td>0</td>\n",
              "      <td>1</td>\n",
              "      <td>0</td>\n",
              "      <td>0</td>\n",
              "      <td>1</td>\n",
              "      <td>0</td>\n",
              "      <td>0</td>\n",
              "      <td>0</td>\n",
              "      <td>0</td>\n",
              "      <td>1</td>\n",
              "      <td>0</td>\n",
              "      <td>0</td>\n",
              "      <td>0</td>\n",
              "      <td>0</td>\n",
              "      <td>0</td>\n",
              "      <td>0</td>\n",
              "      <td>0</td>\n",
              "      <td>1</td>\n",
              "      <td>0</td>\n",
              "      <td>0</td>\n",
              "      <td>0</td>\n",
              "      <td>1</td>\n",
              "      <td>0</td>\n",
              "      <td>0</td>\n",
              "      <td>1</td>\n",
              "    </tr>\n",
              "    <tr>\n",
              "      <th>4</th>\n",
              "      <td>27</td>\n",
              "      <td>591</td>\n",
              "      <td>2</td>\n",
              "      <td>1</td>\n",
              "      <td>1</td>\n",
              "      <td>7</td>\n",
              "      <td>1</td>\n",
              "      <td>40</td>\n",
              "      <td>3</td>\n",
              "      <td>1</td>\n",
              "      <td>2</td>\n",
              "      <td>3468</td>\n",
              "      <td>16632</td>\n",
              "      <td>9</td>\n",
              "      <td>12</td>\n",
              "      <td>3</td>\n",
              "      <td>4</td>\n",
              "      <td>1</td>\n",
              "      <td>6</td>\n",
              "      <td>3</td>\n",
              "      <td>3</td>\n",
              "      <td>2</td>\n",
              "      <td>2</td>\n",
              "      <td>2</td>\n",
              "      <td>2</td>\n",
              "      <td>4</td>\n",
              "      <td>0</td>\n",
              "      <td>0</td>\n",
              "      <td>1</td>\n",
              "      <td>0</td>\n",
              "      <td>1</td>\n",
              "      <td>0</td>\n",
              "      <td>0</td>\n",
              "      <td>0</td>\n",
              "      <td>0</td>\n",
              "      <td>1</td>\n",
              "      <td>0</td>\n",
              "      <td>0</td>\n",
              "      <td>0</td>\n",
              "      <td>1</td>\n",
              "      <td>0</td>\n",
              "      <td>0</td>\n",
              "      <td>1</td>\n",
              "      <td>0</td>\n",
              "      <td>0</td>\n",
              "      <td>0</td>\n",
              "      <td>0</td>\n",
              "      <td>0</td>\n",
              "      <td>0</td>\n",
              "      <td>0</td>\n",
              "      <td>1</td>\n",
              "      <td>0</td>\n",
              "      <td>1</td>\n",
              "      <td>0</td>\n",
              "    </tr>\n",
              "  </tbody>\n",
              "</table>\n",
              "</div>"
            ],
            "text/plain": [
              "   Age  DailyRate  DistanceFromHome  Education  ...  Married  Single  No  Yes\n",
              "0   41       1102                 1          2  ...        0       1   0    1\n",
              "1   49        279                 8          1  ...        1       0   1    0\n",
              "2   37       1373                 2          2  ...        0       1   0    1\n",
              "3   33       1392                 3          4  ...        1       0   0    1\n",
              "4   27        591                 2          1  ...        1       0   1    0\n",
              "\n",
              "[5 rows x 54 columns]"
            ]
          },
          "metadata": {
            "tags": []
          },
          "execution_count": 10
        }
      ]
    },
    {
      "cell_type": "code",
      "metadata": {
        "id": "KxtTjrAEVPi8",
        "colab_type": "code",
        "outputId": "ea9e8da4-62cf-42d4-eb5e-12a6733234a8",
        "colab": {
          "base_uri": "https://localhost:8080/",
          "height": 941
        }
      },
      "source": [
        "X.dtypes"
      ],
      "execution_count": 11,
      "outputs": [
        {
          "output_type": "execute_result",
          "data": {
            "text/plain": [
              "Age                          int64\n",
              "DailyRate                    int64\n",
              "DistanceFromHome             int64\n",
              "Education                    int64\n",
              "EmployeeCount                int64\n",
              "EmployeeNumber               int64\n",
              "EnvironmentSatisfaction      int64\n",
              "HourlyRate                   int64\n",
              "JobInvolvement               int64\n",
              "JobLevel                     int64\n",
              "JobSatisfaction              int64\n",
              "MonthlyIncome                int64\n",
              "MonthlyRate                  int64\n",
              "NumCompaniesWorked           int64\n",
              "PercentSalaryHike            int64\n",
              "PerformanceRating            int64\n",
              "RelationshipSatisfaction     int64\n",
              "StockOptionLevel             int64\n",
              "TotalWorkingYears            int64\n",
              "TrainingTimesLastYear        int64\n",
              "WorkLifeBalance              int64\n",
              "YearsAtCompany               int64\n",
              "YearsInCurrentRole           int64\n",
              "YearsSinceLastPromotion      int64\n",
              "YearsWithCurrManager         int64\n",
              "ID                           int64\n",
              "Non-Travel                   uint8\n",
              "Travel_Frequently            uint8\n",
              "Travel_Rarely                uint8\n",
              "Human Resources              uint8\n",
              "Research & Development       uint8\n",
              "Sales                        uint8\n",
              "Human Resources              uint8\n",
              "Life Sciences                uint8\n",
              "Marketing                    uint8\n",
              "Medical                      uint8\n",
              "Other                        uint8\n",
              "Technical Degree             uint8\n",
              "Female                       uint8\n",
              "Male                         uint8\n",
              "Healthcare Representative    uint8\n",
              "Human Resources              uint8\n",
              "Laboratory Technician        uint8\n",
              "Manager                      uint8\n",
              "Manufacturing Director       uint8\n",
              "Research Director            uint8\n",
              "Research Scientist           uint8\n",
              "Sales Executive              uint8\n",
              "Sales Representative         uint8\n",
              "Divorced                     uint8\n",
              "Married                      uint8\n",
              "Single                       uint8\n",
              "No                           uint8\n",
              "Yes                          uint8\n",
              "dtype: object"
            ]
          },
          "metadata": {
            "tags": []
          },
          "execution_count": 11
        }
      ]
    },
    {
      "cell_type": "code",
      "metadata": {
        "id": "LfD_kb0uTSYJ",
        "colab_type": "code",
        "outputId": "79591544-8e6a-4198-a647-6e1029a51396",
        "colab": {
          "base_uri": "https://localhost:8080/",
          "height": 1000
        }
      },
      "source": [
        "X.hist(figsize = (20,20))\n",
        "plt.plot()"
      ],
      "execution_count": 12,
      "outputs": [
        {
          "output_type": "execute_result",
          "data": {
            "text/plain": [
              "[]"
            ]
          },
          "metadata": {
            "tags": []
          },
          "execution_count": 12
        },
        {
          "output_type": "display_data",
          "data": {
            "image/png": "[encoded data removed]",
            "text/plain": [
              "<Figure size 1440x1440 with 56 Axes>"
            ]
          },
          "metadata": {
            "tags": [],
            "needs_background": "light"
          }
        }
      ]
    },
    {
      "cell_type": "code",
      "metadata": {
        "id": "8FZQacUk_Bv_",
        "colab_type": "code",
        "outputId": "77027f66-331f-4121-cc2e-109a8967411c",
        "colab": {
          "base_uri": "https://localhost:8080/",
          "height": 286
        }
      },
      "source": [
        "X.columns"
      ],
      "execution_count": 13,
      "outputs": [
        {
          "output_type": "execute_result",
          "data": {
            "text/plain": [
              "Index(['Age', 'DailyRate', 'DistanceFromHome', 'Education', 'EmployeeCount',\n",
              "       'EmployeeNumber', 'EnvironmentSatisfaction', 'HourlyRate',\n",
              "       'JobInvolvement', 'JobLevel', 'JobSatisfaction', 'MonthlyIncome',\n",
              "       'MonthlyRate', 'NumCompaniesWorked', 'PercentSalaryHike',\n",
              "       'PerformanceRating', 'RelationshipSatisfaction', 'StockOptionLevel',\n",
              "       'TotalWorkingYears', 'TrainingTimesLastYear', 'WorkLifeBalance',\n",
              "       'YearsAtCompany', 'YearsInCurrentRole', 'YearsSinceLastPromotion',\n",
              "       'YearsWithCurrManager', 'ID', 'Non-Travel', 'Travel_Frequently',\n",
              "       'Travel_Rarely', 'Human Resources', 'Research & Development', 'Sales',\n",
              "       'Human Resources', 'Life Sciences', 'Marketing', 'Medical', 'Other',\n",
              "       'Technical Degree', 'Female', 'Male', 'Healthcare Representative',\n",
              "       'Human Resources', 'Laboratory Technician', 'Manager',\n",
              "       'Manufacturing Director', 'Research Director', 'Research Scientist',\n",
              "       'Sales Executive', 'Sales Representative', 'Divorced', 'Married',\n",
              "       'Single', 'No', 'Yes'],\n",
              "      dtype='object')"
            ]
          },
          "metadata": {
            "tags": []
          },
          "execution_count": 13
        }
      ]
    },
    {
      "cell_type": "code",
      "metadata": {
        "id": "eqFcULAhS0KN",
        "colab_type": "code",
        "outputId": "6c766aa1-3e36-497f-db09-2c6800430525",
        "colab": {
          "base_uri": "https://localhost:8080/",
          "height": 232
        }
      },
      "source": [
        "X = X.drop([\"ID\",\"EmployeeCount\",\"Human Resources\"], axis = 1)\n",
        "for name in X.columns:\n",
        "        X[name] -= X[name].min()\n",
        "        X[name] /= X[name].max()\n",
        "\n",
        "X.head()"
      ],
      "execution_count": 14,
      "outputs": [
        {
          "output_type": "execute_result",
          "data": {
            "text/html": [
              "<div>\n",
              "<style scoped>\n",
              "    .dataframe tbody tr th:only-of-type {\n",
              "        vertical-align: middle;\n",
              "    }\n",
              "\n",
              "    .dataframe tbody tr th {\n",
              "        vertical-align: top;\n",
              "    }\n",
              "\n",
              "    .dataframe thead th {\n",
              "        text-align: right;\n",
              "    }\n",
              "</style>\n",
              "<table border=\"1\" class=\"dataframe\">\n",
              "  <thead>\n",
              "    <tr style=\"text-align: right;\">\n",
              "      <th></th>\n",
              "      <th>Age</th>\n",
              "      <th>DailyRate</th>\n",
              "      <th>DistanceFromHome</th>\n",
              "      <th>Education</th>\n",
              "      <th>EmployeeNumber</th>\n",
              "      <th>EnvironmentSatisfaction</th>\n",
              "      <th>HourlyRate</th>\n",
              "      <th>JobInvolvement</th>\n",
              "      <th>JobLevel</th>\n",
              "      <th>JobSatisfaction</th>\n",
              "      <th>MonthlyIncome</th>\n",
              "      <th>MonthlyRate</th>\n",
              "      <th>NumCompaniesWorked</th>\n",
              "      <th>PercentSalaryHike</th>\n",
              "      <th>PerformanceRating</th>\n",
              "      <th>RelationshipSatisfaction</th>\n",
              "      <th>StockOptionLevel</th>\n",
              "      <th>TotalWorkingYears</th>\n",
              "      <th>TrainingTimesLastYear</th>\n",
              "      <th>WorkLifeBalance</th>\n",
              "      <th>YearsAtCompany</th>\n",
              "      <th>YearsInCurrentRole</th>\n",
              "      <th>YearsSinceLastPromotion</th>\n",
              "      <th>YearsWithCurrManager</th>\n",
              "      <th>Non-Travel</th>\n",
              "      <th>Travel_Frequently</th>\n",
              "      <th>Travel_Rarely</th>\n",
              "      <th>Research &amp; Development</th>\n",
              "      <th>Sales</th>\n",
              "      <th>Life Sciences</th>\n",
              "      <th>Marketing</th>\n",
              "      <th>Medical</th>\n",
              "      <th>Other</th>\n",
              "      <th>Technical Degree</th>\n",
              "      <th>Female</th>\n",
              "      <th>Male</th>\n",
              "      <th>Healthcare Representative</th>\n",
              "      <th>Laboratory Technician</th>\n",
              "      <th>Manager</th>\n",
              "      <th>Manufacturing Director</th>\n",
              "      <th>Research Director</th>\n",
              "      <th>Research Scientist</th>\n",
              "      <th>Sales Executive</th>\n",
              "      <th>Sales Representative</th>\n",
              "      <th>Divorced</th>\n",
              "      <th>Married</th>\n",
              "      <th>Single</th>\n",
              "      <th>No</th>\n",
              "      <th>Yes</th>\n",
              "    </tr>\n",
              "  </thead>\n",
              "  <tbody>\n",
              "    <tr>\n",
              "      <th>0</th>\n",
              "      <td>0.547619</td>\n",
              "      <td>0.715820</td>\n",
              "      <td>0.000000</td>\n",
              "      <td>0.25</td>\n",
              "      <td>0.000000</td>\n",
              "      <td>0.333333</td>\n",
              "      <td>0.914286</td>\n",
              "      <td>0.666667</td>\n",
              "      <td>0.25</td>\n",
              "      <td>1.000000</td>\n",
              "      <td>0.262454</td>\n",
              "      <td>0.698053</td>\n",
              "      <td>0.888889</td>\n",
              "      <td>0.000000</td>\n",
              "      <td>0.0</td>\n",
              "      <td>0.000000</td>\n",
              "      <td>0.000000</td>\n",
              "      <td>0.200</td>\n",
              "      <td>0.0</td>\n",
              "      <td>0.000000</td>\n",
              "      <td>0.15</td>\n",
              "      <td>0.222222</td>\n",
              "      <td>0.000000</td>\n",
              "      <td>0.294118</td>\n",
              "      <td>0.0</td>\n",
              "      <td>0.0</td>\n",
              "      <td>1.0</td>\n",
              "      <td>0.0</td>\n",
              "      <td>1.0</td>\n",
              "      <td>1.0</td>\n",
              "      <td>0.0</td>\n",
              "      <td>0.0</td>\n",
              "      <td>0.0</td>\n",
              "      <td>0.0</td>\n",
              "      <td>1.0</td>\n",
              "      <td>0.0</td>\n",
              "      <td>0.0</td>\n",
              "      <td>0.0</td>\n",
              "      <td>0.0</td>\n",
              "      <td>0.0</td>\n",
              "      <td>0.0</td>\n",
              "      <td>0.0</td>\n",
              "      <td>1.0</td>\n",
              "      <td>0.0</td>\n",
              "      <td>0.0</td>\n",
              "      <td>0.0</td>\n",
              "      <td>1.0</td>\n",
              "      <td>0.0</td>\n",
              "      <td>1.0</td>\n",
              "    </tr>\n",
              "    <tr>\n",
              "      <th>1</th>\n",
              "      <td>0.738095</td>\n",
              "      <td>0.126700</td>\n",
              "      <td>0.250000</td>\n",
              "      <td>0.00</td>\n",
              "      <td>0.000692</td>\n",
              "      <td>0.666667</td>\n",
              "      <td>0.442857</td>\n",
              "      <td>0.333333</td>\n",
              "      <td>0.25</td>\n",
              "      <td>0.333333</td>\n",
              "      <td>0.217009</td>\n",
              "      <td>0.916001</td>\n",
              "      <td>0.111111</td>\n",
              "      <td>0.857143</td>\n",
              "      <td>1.0</td>\n",
              "      <td>1.000000</td>\n",
              "      <td>0.333333</td>\n",
              "      <td>0.250</td>\n",
              "      <td>0.5</td>\n",
              "      <td>0.666667</td>\n",
              "      <td>0.25</td>\n",
              "      <td>0.388889</td>\n",
              "      <td>0.066667</td>\n",
              "      <td>0.411765</td>\n",
              "      <td>0.0</td>\n",
              "      <td>1.0</td>\n",
              "      <td>0.0</td>\n",
              "      <td>1.0</td>\n",
              "      <td>0.0</td>\n",
              "      <td>1.0</td>\n",
              "      <td>0.0</td>\n",
              "      <td>0.0</td>\n",
              "      <td>0.0</td>\n",
              "      <td>0.0</td>\n",
              "      <td>0.0</td>\n",
              "      <td>1.0</td>\n",
              "      <td>0.0</td>\n",
              "      <td>0.0</td>\n",
              "      <td>0.0</td>\n",
              "      <td>0.0</td>\n",
              "      <td>0.0</td>\n",
              "      <td>1.0</td>\n",
              "      <td>0.0</td>\n",
              "      <td>0.0</td>\n",
              "      <td>0.0</td>\n",
              "      <td>1.0</td>\n",
              "      <td>0.0</td>\n",
              "      <td>1.0</td>\n",
              "      <td>0.0</td>\n",
              "    </tr>\n",
              "    <tr>\n",
              "      <th>2</th>\n",
              "      <td>0.452381</td>\n",
              "      <td>0.909807</td>\n",
              "      <td>0.035714</td>\n",
              "      <td>0.25</td>\n",
              "      <td>0.002075</td>\n",
              "      <td>1.000000</td>\n",
              "      <td>0.885714</td>\n",
              "      <td>0.333333</td>\n",
              "      <td>0.00</td>\n",
              "      <td>0.666667</td>\n",
              "      <td>0.056925</td>\n",
              "      <td>0.012126</td>\n",
              "      <td>0.666667</td>\n",
              "      <td>0.285714</td>\n",
              "      <td>0.0</td>\n",
              "      <td>0.333333</td>\n",
              "      <td>0.000000</td>\n",
              "      <td>0.175</td>\n",
              "      <td>0.5</td>\n",
              "      <td>0.666667</td>\n",
              "      <td>0.00</td>\n",
              "      <td>0.000000</td>\n",
              "      <td>0.000000</td>\n",
              "      <td>0.000000</td>\n",
              "      <td>0.0</td>\n",
              "      <td>0.0</td>\n",
              "      <td>1.0</td>\n",
              "      <td>1.0</td>\n",
              "      <td>0.0</td>\n",
              "      <td>0.0</td>\n",
              "      <td>0.0</td>\n",
              "      <td>0.0</td>\n",
              "      <td>1.0</td>\n",
              "      <td>0.0</td>\n",
              "      <td>0.0</td>\n",
              "      <td>1.0</td>\n",
              "      <td>0.0</td>\n",
              "      <td>1.0</td>\n",
              "      <td>0.0</td>\n",
              "      <td>0.0</td>\n",
              "      <td>0.0</td>\n",
              "      <td>0.0</td>\n",
              "      <td>0.0</td>\n",
              "      <td>0.0</td>\n",
              "      <td>0.0</td>\n",
              "      <td>0.0</td>\n",
              "      <td>1.0</td>\n",
              "      <td>0.0</td>\n",
              "      <td>1.0</td>\n",
              "    </tr>\n",
              "    <tr>\n",
              "      <th>3</th>\n",
              "      <td>0.357143</td>\n",
              "      <td>0.923407</td>\n",
              "      <td>0.071429</td>\n",
              "      <td>0.75</td>\n",
              "      <td>0.002766</td>\n",
              "      <td>1.000000</td>\n",
              "      <td>0.371429</td>\n",
              "      <td>0.666667</td>\n",
              "      <td>0.00</td>\n",
              "      <td>0.666667</td>\n",
              "      <td>0.100053</td>\n",
              "      <td>0.845814</td>\n",
              "      <td>0.111111</td>\n",
              "      <td>0.000000</td>\n",
              "      <td>0.0</td>\n",
              "      <td>0.666667</td>\n",
              "      <td>0.000000</td>\n",
              "      <td>0.200</td>\n",
              "      <td>0.5</td>\n",
              "      <td>0.666667</td>\n",
              "      <td>0.20</td>\n",
              "      <td>0.388889</td>\n",
              "      <td>0.200000</td>\n",
              "      <td>0.000000</td>\n",
              "      <td>0.0</td>\n",
              "      <td>1.0</td>\n",
              "      <td>0.0</td>\n",
              "      <td>1.0</td>\n",
              "      <td>0.0</td>\n",
              "      <td>1.0</td>\n",
              "      <td>0.0</td>\n",
              "      <td>0.0</td>\n",
              "      <td>0.0</td>\n",
              "      <td>0.0</td>\n",
              "      <td>1.0</td>\n",
              "      <td>0.0</td>\n",
              "      <td>0.0</td>\n",
              "      <td>0.0</td>\n",
              "      <td>0.0</td>\n",
              "      <td>0.0</td>\n",
              "      <td>0.0</td>\n",
              "      <td>1.0</td>\n",
              "      <td>0.0</td>\n",
              "      <td>0.0</td>\n",
              "      <td>0.0</td>\n",
              "      <td>1.0</td>\n",
              "      <td>0.0</td>\n",
              "      <td>0.0</td>\n",
              "      <td>1.0</td>\n",
              "    </tr>\n",
              "    <tr>\n",
              "      <th>4</th>\n",
              "      <td>0.214286</td>\n",
              "      <td>0.350036</td>\n",
              "      <td>0.035714</td>\n",
              "      <td>0.00</td>\n",
              "      <td>0.004149</td>\n",
              "      <td>0.000000</td>\n",
              "      <td>0.142857</td>\n",
              "      <td>0.666667</td>\n",
              "      <td>0.00</td>\n",
              "      <td>0.333333</td>\n",
              "      <td>0.129489</td>\n",
              "      <td>0.583738</td>\n",
              "      <td>1.000000</td>\n",
              "      <td>0.071429</td>\n",
              "      <td>0.0</td>\n",
              "      <td>1.000000</td>\n",
              "      <td>0.333333</td>\n",
              "      <td>0.150</td>\n",
              "      <td>0.5</td>\n",
              "      <td>0.666667</td>\n",
              "      <td>0.05</td>\n",
              "      <td>0.111111</td>\n",
              "      <td>0.133333</td>\n",
              "      <td>0.117647</td>\n",
              "      <td>0.0</td>\n",
              "      <td>0.0</td>\n",
              "      <td>1.0</td>\n",
              "      <td>1.0</td>\n",
              "      <td>0.0</td>\n",
              "      <td>0.0</td>\n",
              "      <td>0.0</td>\n",
              "      <td>1.0</td>\n",
              "      <td>0.0</td>\n",
              "      <td>0.0</td>\n",
              "      <td>0.0</td>\n",
              "      <td>1.0</td>\n",
              "      <td>0.0</td>\n",
              "      <td>1.0</td>\n",
              "      <td>0.0</td>\n",
              "      <td>0.0</td>\n",
              "      <td>0.0</td>\n",
              "      <td>0.0</td>\n",
              "      <td>0.0</td>\n",
              "      <td>0.0</td>\n",
              "      <td>0.0</td>\n",
              "      <td>1.0</td>\n",
              "      <td>0.0</td>\n",
              "      <td>1.0</td>\n",
              "      <td>0.0</td>\n",
              "    </tr>\n",
              "  </tbody>\n",
              "</table>\n",
              "</div>"
            ],
            "text/plain": [
              "        Age  DailyRate  DistanceFromHome  Education  ...  Married  Single   No  Yes\n",
              "0  0.547619   0.715820          0.000000       0.25  ...      0.0     1.0  0.0  1.0\n",
              "1  0.738095   0.126700          0.250000       0.00  ...      1.0     0.0  1.0  0.0\n",
              "2  0.452381   0.909807          0.035714       0.25  ...      0.0     1.0  0.0  1.0\n",
              "3  0.357143   0.923407          0.071429       0.75  ...      1.0     0.0  0.0  1.0\n",
              "4  0.214286   0.350036          0.035714       0.00  ...      1.0     0.0  1.0  0.0\n",
              "\n",
              "[5 rows x 49 columns]"
            ]
          },
          "metadata": {
            "tags": []
          },
          "execution_count": 14
        }
      ]
    },
    {
      "cell_type": "code",
      "metadata": {
        "id": "8JtyPYLXONY_",
        "colab_type": "code",
        "outputId": "f271a960-6890-4ca8-fd9f-bab8f5d4276d",
        "colab": {
          "base_uri": "https://localhost:8080/",
          "height": 67
        }
      },
      "source": [
        "y.value_counts()"
      ],
      "execution_count": 15,
      "outputs": [
        {
          "output_type": "execute_result",
          "data": {
            "text/plain": [
              "0    856\n",
              "1    172\n",
              "Name: Attrition, dtype: int64"
            ]
          },
          "metadata": {
            "tags": []
          },
          "execution_count": 15
        }
      ]
    },
    {
      "cell_type": "code",
      "metadata": {
        "id": "bIIvroaTRol5",
        "colab_type": "code",
        "colab": {}
      },
      "source": [
        "from sklearn.metrics import classification_report\n",
        "from sklearn.metrics import roc_curve\n",
        "from sklearn.metrics import roc_auc_score\n",
        "from sklearn.model_selection import train_test_split\n",
        "from sklearn.ensemble import RandomForestClassifier\n",
        "from xgboost import XGBClassifier\n",
        "from lightgbm import LGBMClassifier\n",
        "from sklearn.neighbors import KNeighborsClassifier\n",
        "from sklearn.svm import SVC\n",
        "from sklearn.linear_model import LogisticRegression\n",
        "from sklearn.calibration import CalibratedClassifierCV"
      ],
      "execution_count": 0,
      "outputs": []
    },
    {
      "cell_type": "code",
      "metadata": {
        "id": "5TpXPfnPRabf",
        "colab_type": "code",
        "colab": {}
      },
      "source": [
        "X_train, X_test, y_train, y_test = train_test_split(X, y, test_size = 0.2, random_state = 111)"
      ],
      "execution_count": 0,
      "outputs": []
    },
    {
      "cell_type": "code",
      "metadata": {
        "id": "YfqFG8mHYUue",
        "colab_type": "code",
        "outputId": "5c65816f-e1d6-43af-fdbe-3ab5c8ad705b",
        "colab": {
          "base_uri": "https://localhost:8080/",
          "height": 353
        }
      },
      "source": [
        "rfc_pro = RandomForestClassifier(n_estimators = 30, max_depth = 4)\n",
        "rfc = CalibratedClassifierCV(rfc_pro)\n",
        "rfc.fit(X_train, y_train)"
      ],
      "execution_count": 18,
      "outputs": [
        {
          "output_type": "execute_result",
          "data": {
            "text/plain": [
              "CalibratedClassifierCV(base_estimator=RandomForestClassifier(bootstrap=True,\n",
              "                                                             ccp_alpha=0.0,\n",
              "                                                             class_weight=None,\n",
              "                                                             criterion='gini',\n",
              "                                                             max_depth=4,\n",
              "                                                             max_features='auto',\n",
              "                                                             max_leaf_nodes=None,\n",
              "                                                             max_samples=None,\n",
              "                                                             min_impurity_decrease=0.0,\n",
              "                                                             min_impurity_split=None,\n",
              "                                                             min_samples_leaf=1,\n",
              "                                                             min_samples_split=2,\n",
              "                                                             min_weight_fraction_leaf=0.0,\n",
              "                                                             n_estimators=30,\n",
              "                                                             n_jobs=None,\n",
              "                                                             oob_score=False,\n",
              "                                                             random_state=None,\n",
              "                                                             verbose=0,\n",
              "                                                             warm_start=False),\n",
              "                       cv=None, method='sigmoid')"
            ]
          },
          "metadata": {
            "tags": []
          },
          "execution_count": 18
        }
      ]
    },
    {
      "cell_type": "code",
      "metadata": {
        "id": "URIgklo_YrV-",
        "colab_type": "code",
        "outputId": "fdfad64f-eecb-465f-ad17-68ba31e6641a",
        "colab": {
          "base_uri": "https://localhost:8080/",
          "height": 353
        }
      },
      "source": [
        "y_test_pred = rfc.predict(X_test)\n",
        "y_train_pred = rfc.predict(X_train)\n",
        "\n",
        "print(\"Training Data Stats :\") \n",
        "print(classification_report(y_train_pred, y_train))\n",
        "print(\"Test Data Stats :\") \n",
        "print(classification_report(y_test_pred, y_test))"
      ],
      "execution_count": 19,
      "outputs": [
        {
          "output_type": "stream",
          "text": [
            "Training Data Stats :\n",
            "              precision    recall  f1-score   support\n",
            "\n",
            "           0       0.99      0.88      0.93       763\n",
            "           1       0.37      0.88      0.52        59\n",
            "\n",
            "    accuracy                           0.88       822\n",
            "   macro avg       0.68      0.88      0.73       822\n",
            "weighted avg       0.94      0.88      0.90       822\n",
            "\n",
            "Test Data Stats :\n",
            "              precision    recall  f1-score   support\n",
            "\n",
            "           0       0.96      0.89      0.92       190\n",
            "           1       0.30      0.56      0.39        16\n",
            "\n",
            "    accuracy                           0.86       206\n",
            "   macro avg       0.63      0.73      0.66       206\n",
            "weighted avg       0.91      0.86      0.88       206\n",
            "\n"
          ],
          "name": "stdout"
        }
      ]
    },
    {
      "cell_type": "code",
      "metadata": {
        "id": "dCcTU0I6ZWE0",
        "colab_type": "code",
        "outputId": "9403a2c2-6ff4-4b09-9440-e8a01988cec1",
        "colab": {
          "base_uri": "https://localhost:8080/",
          "height": 312
        }
      },
      "source": [
        "probs = rfc.predict_proba(X_test)  \n",
        "probs = probs[:, 1]  \n",
        "fper, tper, thresholds = roc_curve(y_test, probs) \n",
        "plt.plot(fper, tper)\n",
        "plt.plot([0,1], [0,1], 'k--')\n",
        "plt.xlabel('False Positive Rate')\n",
        "plt.ylabel('True Positive Rate')\n",
        "plt.title('Random Forest Classifier ROC curve')\n",
        "plt.show()\n",
        "print(\"AUC Score :\", roc_auc_score(y_test,probs))"
      ],
      "execution_count": 20,
      "outputs": [
        {
          "output_type": "display_data",
          "data": {
            "image/png": "[encoded data removed]",
            "text/plain": [
              "<Figure size 432x288 with 1 Axes>"
            ]
          },
          "metadata": {
            "tags": [],
            "needs_background": "light"
          }
        },
        {
          "output_type": "stream",
          "text": [
            "AUC Score : 0.7365530303030303\n"
          ],
          "name": "stdout"
        }
      ]
    },
    {
      "cell_type": "code",
      "metadata": {
        "id": "NFsyu-mNJPR5",
        "colab_type": "code",
        "outputId": "1981ba69-cd66-4bb8-e6df-06b18e8c18d5",
        "colab": {
          "base_uri": "https://localhost:8080/",
          "height": 336
        }
      },
      "source": [
        "lgbm_pro = LGBMClassifier(n_estimators = 40)\n",
        "lgbm = CalibratedClassifierCV(lgbm_pro, method = 'sigmoid')\n",
        "lgbm.fit(X_train, y_train)"
      ],
      "execution_count": 21,
      "outputs": [
        {
          "output_type": "execute_result",
          "data": {
            "text/plain": [
              "CalibratedClassifierCV(base_estimator=LGBMClassifier(boosting_type='gbdt',\n",
              "                                                     class_weight=None,\n",
              "                                                     colsample_bytree=1.0,\n",
              "                                                     importance_type='split',\n",
              "                                                     learning_rate=0.1,\n",
              "                                                     max_depth=-1,\n",
              "                                                     min_child_samples=20,\n",
              "                                                     min_child_weight=0.001,\n",
              "                                                     min_split_gain=0.0,\n",
              "                                                     n_estimators=40, n_jobs=-1,\n",
              "                                                     num_leaves=31,\n",
              "                                                     objective=None,\n",
              "                                                     random_state=None,\n",
              "                                                     reg_alpha=0.0,\n",
              "                                                     reg_lambda=0.0,\n",
              "                                                     silent=True, subsample=1.0,\n",
              "                                                     subsample_for_bin=200000,\n",
              "                                                     subsample_freq=0),\n",
              "                       cv=None, method='sigmoid')"
            ]
          },
          "metadata": {
            "tags": []
          },
          "execution_count": 21
        }
      ]
    },
    {
      "cell_type": "code",
      "metadata": {
        "id": "FSXcd8NkK_Vs",
        "colab_type": "code",
        "outputId": "3555663f-e883-4873-b3f8-2fb4026f8bdd",
        "colab": {
          "base_uri": "https://localhost:8080/",
          "height": 353
        }
      },
      "source": [
        "y_test_pred = lgbm.predict(X_test)\n",
        "y_train_pred = lgbm.predict(X_train)\n",
        "\n",
        "print(\"Training Data Stats :\") \n",
        "print(classification_report(y_train_pred, y_train))\n",
        "print(\"Test Data Stats :\") \n",
        "print(classification_report(y_test_pred, y_test))"
      ],
      "execution_count": 22,
      "outputs": [
        {
          "output_type": "stream",
          "text": [
            "Training Data Stats :\n",
            "              precision    recall  f1-score   support\n",
            "\n",
            "           0       1.00      0.99      0.99       690\n",
            "           1       0.93      1.00      0.96       132\n",
            "\n",
            "    accuracy                           0.99       822\n",
            "   macro avg       0.96      0.99      0.98       822\n",
            "weighted avg       0.99      0.99      0.99       822\n",
            "\n",
            "Test Data Stats :\n",
            "              precision    recall  f1-score   support\n",
            "\n",
            "           0       0.97      0.90      0.93       191\n",
            "           1       0.33      0.67      0.44        15\n",
            "\n",
            "    accuracy                           0.88       206\n",
            "   macro avg       0.65      0.78      0.69       206\n",
            "weighted avg       0.93      0.88      0.90       206\n",
            "\n"
          ],
          "name": "stdout"
        }
      ]
    },
    {
      "cell_type": "code",
      "metadata": {
        "id": "dGqfsC_zLF5y",
        "colab_type": "code",
        "outputId": "51d00286-bd96-4567-c76b-71b1270b68f2",
        "colab": {
          "base_uri": "https://localhost:8080/",
          "height": 312
        }
      },
      "source": [
        "probs = lgbm.predict_proba(X_test)  \n",
        "probs = probs[:, 1]  \n",
        "fper, tper, thresholds = roc_curve(y_test, probs) \n",
        "plt.plot(fper, tper)\n",
        "plt.plot([0,1], [0,1], 'k--')\n",
        "plt.xlabel('False Positive Rate')\n",
        "plt.ylabel('True Positive Rate')\n",
        "plt.title('XGBoost ROC curve')\n",
        "plt.show()\n",
        "print(\"AUC Score :\", roc_auc_score(y_test,probs))"
      ],
      "execution_count": 23,
      "outputs": [
        {
          "output_type": "display_data",
          "data": {
            "image/png": "[encoded data removed]",
            "text/plain": [
              "<Figure size 432x288 with 1 Axes>"
            ]
          },
          "metadata": {
            "tags": [],
            "needs_background": "light"
          }
        },
        {
          "output_type": "stream",
          "text": [
            "AUC Score : 0.75\n"
          ],
          "name": "stdout"
        }
      ]
    },
    {
      "cell_type": "code",
      "metadata": {
        "id": "Ioe6_ndobASn",
        "colab_type": "code",
        "outputId": "9d5900cf-d18c-4fe6-ca5a-2e463027cf69",
        "colab": {
          "base_uri": "https://localhost:8080/",
          "height": 336
        }
      },
      "source": [
        "xgb_pro = XGBClassifier()\n",
        "xgb = CalibratedClassifierCV(xgb_pro)\n",
        "xgb.fit(X_train, y_train)"
      ],
      "execution_count": 24,
      "outputs": [
        {
          "output_type": "execute_result",
          "data": {
            "text/plain": [
              "CalibratedClassifierCV(base_estimator=XGBClassifier(base_score=0.5,\n",
              "                                                    booster='gbtree',\n",
              "                                                    colsample_bylevel=1,\n",
              "                                                    colsample_bynode=1,\n",
              "                                                    colsample_bytree=1, gamma=0,\n",
              "                                                    learning_rate=0.1,\n",
              "                                                    max_delta_step=0,\n",
              "                                                    max_depth=3,\n",
              "                                                    min_child_weight=1,\n",
              "                                                    missing=None,\n",
              "                                                    n_estimators=100, n_jobs=1,\n",
              "                                                    nthread=None,\n",
              "                                                    objective='binary:logistic',\n",
              "                                                    random_state=0, reg_alpha=0,\n",
              "                                                    reg_lambda=1,\n",
              "                                                    scale_pos_weight=1,\n",
              "                                                    seed=None, silent=None,\n",
              "                                                    subsample=1, verbosity=1),\n",
              "                       cv=None, method='sigmoid')"
            ]
          },
          "metadata": {
            "tags": []
          },
          "execution_count": 24
        }
      ]
    },
    {
      "cell_type": "code",
      "metadata": {
        "id": "OJ8ou3JAbScx",
        "colab_type": "code",
        "outputId": "41139101-2c51-4228-e083-25e440b8b421",
        "colab": {
          "base_uri": "https://localhost:8080/",
          "height": 353
        }
      },
      "source": [
        "y_test_pred = xgb.predict(X_test)\n",
        "y_train_pred = xgb.predict(X_train)\n",
        "\n",
        "print(\"Training Data Stats :\") \n",
        "print(classification_report(y_train_pred, y_train))\n",
        "print(\"Test Data Stats :\") \n",
        "print(classification_report(y_test_pred, y_test))"
      ],
      "execution_count": 25,
      "outputs": [
        {
          "output_type": "stream",
          "text": [
            "Training Data Stats :\n",
            "              precision    recall  f1-score   support\n",
            "\n",
            "           0       1.00      0.95      0.97       715\n",
            "           1       0.75      1.00      0.86       107\n",
            "\n",
            "    accuracy                           0.96       822\n",
            "   macro avg       0.88      0.98      0.92       822\n",
            "weighted avg       0.97      0.96      0.96       822\n",
            "\n",
            "Test Data Stats :\n",
            "              precision    recall  f1-score   support\n",
            "\n",
            "           0       0.97      0.90      0.93       191\n",
            "           1       0.33      0.67      0.44        15\n",
            "\n",
            "    accuracy                           0.88       206\n",
            "   macro avg       0.65      0.78      0.69       206\n",
            "weighted avg       0.93      0.88      0.90       206\n",
            "\n"
          ],
          "name": "stdout"
        }
      ]
    },
    {
      "cell_type": "code",
      "metadata": {
        "id": "9pTtPgvCbeMq",
        "colab_type": "code",
        "outputId": "8cc732ce-6d5d-4905-be99-875460e56f0d",
        "colab": {
          "base_uri": "https://localhost:8080/",
          "height": 312
        }
      },
      "source": [
        "probs = xgb.predict_proba(X_test)  \n",
        "probs = probs[:, 1]  \n",
        "fper, tper, thresholds = roc_curve(y_test, probs) \n",
        "plt.plot(fper, tper)\n",
        "plt.plot([0,1], [0,1], 'k--')\n",
        "plt.xlabel('False Positive Rate')\n",
        "plt.ylabel('True Positive Rate')\n",
        "plt.title('XGBoost ROC curve')\n",
        "plt.show()\n",
        "print(\"AUC Score :\", roc_auc_score(y_test,probs))"
      ],
      "execution_count": 26,
      "outputs": [
        {
          "output_type": "display_data",
          "data": {
            "image/png": "[encoded data removed]",
            "text/plain": [
              "<Figure size 432x288 with 1 Axes>"
            ]
          },
          "metadata": {
            "tags": [],
            "needs_background": "light"
          }
        },
        {
          "output_type": "stream",
          "text": [
            "AUC Score : 0.7617424242424242\n"
          ],
          "name": "stdout"
        }
      ]
    },
    {
      "cell_type": "code",
      "metadata": {
        "id": "y6UKFbtRbk8L",
        "colab_type": "code",
        "outputId": "7029c6ad-6d31-4ee0-83e1-e0a1595f5215",
        "colab": {
          "base_uri": "https://localhost:8080/",
          "height": 168
        }
      },
      "source": [
        "svm_pro = SVC(kernel = 'rbf')\n",
        "svm = CalibratedClassifierCV(svm_pro)\n",
        "svm.fit(X_train, y_train)"
      ],
      "execution_count": 27,
      "outputs": [
        {
          "output_type": "execute_result",
          "data": {
            "text/plain": [
              "CalibratedClassifierCV(base_estimator=SVC(C=1.0, break_ties=False,\n",
              "                                          cache_size=200, class_weight=None,\n",
              "                                          coef0=0.0,\n",
              "                                          decision_function_shape='ovr',\n",
              "                                          degree=3, gamma='scale', kernel='rbf',\n",
              "                                          max_iter=-1, probability=False,\n",
              "                                          random_state=None, shrinking=True,\n",
              "                                          tol=0.001, verbose=False),\n",
              "                       cv=None, method='sigmoid')"
            ]
          },
          "metadata": {
            "tags": []
          },
          "execution_count": 27
        }
      ]
    },
    {
      "cell_type": "code",
      "metadata": {
        "id": "yUDhxUYzc-yy",
        "colab_type": "code",
        "outputId": "205b8679-2daa-41b5-af1a-b68c1ba90a38",
        "colab": {
          "base_uri": "https://localhost:8080/",
          "height": 353
        }
      },
      "source": [
        "y_test_pred = svm.predict(X_test)\n",
        "y_train_pred = svm.predict(X_train)\n",
        "\n",
        "print(\"Training Data Stats :\") \n",
        "print(classification_report(y_train_pred, y_train))\n",
        "print(\"Test Data Stats :\") \n",
        "print(classification_report(y_test_pred, y_test))"
      ],
      "execution_count": 28,
      "outputs": [
        {
          "output_type": "stream",
          "text": [
            "Training Data Stats :\n",
            "              precision    recall  f1-score   support\n",
            "\n",
            "           0       1.00      0.91      0.95       741\n",
            "           1       0.55      0.96      0.70        81\n",
            "\n",
            "    accuracy                           0.92       822\n",
            "   macro avg       0.77      0.94      0.83       822\n",
            "weighted avg       0.95      0.92      0.93       822\n",
            "\n",
            "Test Data Stats :\n",
            "              precision    recall  f1-score   support\n",
            "\n",
            "           0       0.99      0.89      0.94       195\n",
            "           1       0.30      0.82      0.44        11\n",
            "\n",
            "    accuracy                           0.89       206\n",
            "   macro avg       0.64      0.86      0.69       206\n",
            "weighted avg       0.95      0.89      0.91       206\n",
            "\n"
          ],
          "name": "stdout"
        }
      ]
    },
    {
      "cell_type": "code",
      "metadata": {
        "id": "WTFoFVWWdHmR",
        "colab_type": "code",
        "outputId": "1eee012c-e083-457b-99cd-bec866a53a3a",
        "colab": {
          "base_uri": "https://localhost:8080/",
          "height": 312
        }
      },
      "source": [
        "probs = svm.predict_proba(X_test)  \n",
        "probs = probs[:, 1]  \n",
        "fper, tper, thresholds = roc_curve(y_test, probs) \n",
        "plt.plot(fper, tper)\n",
        "plt.plot([0,1], [0,1], 'k--')\n",
        "plt.xlabel('False Positive Rate')\n",
        "plt.ylabel('True Positive Rate')\n",
        "plt.title('SVM Classifier ROC curve')\n",
        "plt.show()\n",
        "print(\"AUC Score :\", roc_auc_score(y_test,probs))"
      ],
      "execution_count": 29,
      "outputs": [
        {
          "output_type": "display_data",
          "data": {
            "image/png": "[encoded data removed]",
            "text/plain": [
              "<Figure size 432x288 with 1 Axes>"
            ]
          },
          "metadata": {
            "tags": [],
            "needs_background": "light"
          }
        },
        {
          "output_type": "stream",
          "text": [
            "AUC Score : 0.834848484848485\n"
          ],
          "name": "stdout"
        }
      ]
    },
    {
      "cell_type": "code",
      "metadata": {
        "id": "AQLMZrXDYHX5",
        "colab_type": "code",
        "outputId": "0cbb6cb0-bcce-4008-d47e-900396ae7750",
        "colab": {
          "base_uri": "https://localhost:8080/",
          "height": 185
        }
      },
      "source": [
        "svm_pro1 = SVC(kernel = 'poly')\n",
        "svm1 = CalibratedClassifierCV(svm_pro1)\n",
        "svm1.fit(X_train, y_train)"
      ],
      "execution_count": 30,
      "outputs": [
        {
          "output_type": "execute_result",
          "data": {
            "text/plain": [
              "CalibratedClassifierCV(base_estimator=SVC(C=1.0, break_ties=False,\n",
              "                                          cache_size=200, class_weight=None,\n",
              "                                          coef0=0.0,\n",
              "                                          decision_function_shape='ovr',\n",
              "                                          degree=3, gamma='scale',\n",
              "                                          kernel='poly', max_iter=-1,\n",
              "                                          probability=False, random_state=None,\n",
              "                                          shrinking=True, tol=0.001,\n",
              "                                          verbose=False),\n",
              "                       cv=None, method='sigmoid')"
            ]
          },
          "metadata": {
            "tags": []
          },
          "execution_count": 30
        }
      ]
    },
    {
      "cell_type": "code",
      "metadata": {
        "id": "CMpqT1zCYL56",
        "colab_type": "code",
        "outputId": "d8ba76eb-7491-41f1-81d1-91c2fc194869",
        "colab": {
          "base_uri": "https://localhost:8080/",
          "height": 353
        }
      },
      "source": [
        "y_test_pred1 = svm1.predict(X_test)\n",
        "y_train_pred1 = svm1.predict(X_train)\n",
        "\n",
        "print(\"Training Data Stats :\") \n",
        "print(classification_report(y_train_pred1, y_train))\n",
        "print(\"Test Data Stats :\") \n",
        "print(classification_report(y_test_pred1, y_test))"
      ],
      "execution_count": 31,
      "outputs": [
        {
          "output_type": "stream",
          "text": [
            "Training Data Stats :\n",
            "              precision    recall  f1-score   support\n",
            "\n",
            "           0       1.00      0.92      0.96       741\n",
            "           1       0.57      1.00      0.73        81\n",
            "\n",
            "    accuracy                           0.93       822\n",
            "   macro avg       0.79      0.96      0.84       822\n",
            "weighted avg       0.96      0.93      0.93       822\n",
            "\n",
            "Test Data Stats :\n",
            "              precision    recall  f1-score   support\n",
            "\n",
            "           0       0.99      0.88      0.93       197\n",
            "           1       0.23      0.78      0.36         9\n",
            "\n",
            "    accuracy                           0.88       206\n",
            "   macro avg       0.61      0.83      0.65       206\n",
            "weighted avg       0.96      0.88      0.91       206\n",
            "\n"
          ],
          "name": "stdout"
        }
      ]
    },
    {
      "cell_type": "code",
      "metadata": {
        "id": "Fvqh8XOTYMgo",
        "colab_type": "code",
        "outputId": "9b2828f5-d574-4f01-ed5a-c44ab800da66",
        "colab": {
          "base_uri": "https://localhost:8080/",
          "height": 312
        }
      },
      "source": [
        "probs = svm1.predict_proba(X_test)  \n",
        "probs = probs[:, 1]  \n",
        "fper, tper, thresholds = roc_curve(y_test, probs) \n",
        "plt.plot(fper, tper)\n",
        "plt.plot([0,1], [0,1], 'k--')\n",
        "plt.xlabel('False Positive Rate')\n",
        "plt.ylabel('True Positive Rate')\n",
        "plt.title('SVM Classifier ROC curve')\n",
        "plt.show()\n",
        "print(\"AUC Score :\", roc_auc_score(y_test,probs))"
      ],
      "execution_count": 32,
      "outputs": [
        {
          "output_type": "display_data",
          "data": {
            "image/png": "[encoded data removed]",
            "text/plain": [
              "<Figure size 432x288 with 1 Axes>"
            ]
          },
          "metadata": {
            "tags": [],
            "needs_background": "light"
          }
        },
        {
          "output_type": "stream",
          "text": [
            "AUC Score : 0.834659090909091\n"
          ],
          "name": "stdout"
        }
      ]
    },
    {
      "cell_type": "code",
      "metadata": {
        "id": "nSf3YcxnkfQg",
        "colab_type": "code",
        "outputId": "53603bf3-d157-4d00-f586-a8f9076e5420",
        "colab": {
          "base_uri": "https://localhost:8080/",
          "height": 151
        }
      },
      "source": [
        "knn_pro = KNeighborsClassifier()\n",
        "knn = CalibratedClassifierCV(knn_pro)\n",
        "knn.fit(X_train, y_train)"
      ],
      "execution_count": 33,
      "outputs": [
        {
          "output_type": "execute_result",
          "data": {
            "text/plain": [
              "CalibratedClassifierCV(base_estimator=KNeighborsClassifier(algorithm='auto',\n",
              "                                                           leaf_size=30,\n",
              "                                                           metric='minkowski',\n",
              "                                                           metric_params=None,\n",
              "                                                           n_jobs=None,\n",
              "                                                           n_neighbors=5, p=2,\n",
              "                                                           weights='uniform'),\n",
              "                       cv=None, method='sigmoid')"
            ]
          },
          "metadata": {
            "tags": []
          },
          "execution_count": 33
        }
      ]
    },
    {
      "cell_type": "code",
      "metadata": {
        "id": "-ivxqR_lkOnm",
        "colab_type": "code",
        "outputId": "c498823f-8fcd-4064-d191-41fbdb593405",
        "colab": {
          "base_uri": "https://localhost:8080/",
          "height": 353
        }
      },
      "source": [
        "y_test_pred = knn.predict(X_test)\n",
        "y_train_pred = knn.predict(X_train)\n",
        "\n",
        "print(\"Training Data Stats :\") \n",
        "print(classification_report(y_train_pred, y_train))\n",
        "print(\"Test Data Stats :\") \n",
        "print(classification_report(y_test_pred, y_test))"
      ],
      "execution_count": 34,
      "outputs": [
        {
          "output_type": "stream",
          "text": [
            "Training Data Stats :\n",
            "              precision    recall  f1-score   support\n",
            "\n",
            "           0       1.00      0.86      0.92       791\n",
            "           1       0.20      0.90      0.32        31\n",
            "\n",
            "    accuracy                           0.86       822\n",
            "   macro avg       0.60      0.88      0.62       822\n",
            "weighted avg       0.97      0.86      0.90       822\n",
            "\n",
            "Test Data Stats :\n",
            "              precision    recall  f1-score   support\n",
            "\n",
            "           0       0.99      0.87      0.93       200\n",
            "           1       0.13      0.67      0.22         6\n",
            "\n",
            "    accuracy                           0.86       206\n",
            "   macro avg       0.56      0.77      0.57       206\n",
            "weighted avg       0.96      0.86      0.91       206\n",
            "\n"
          ],
          "name": "stdout"
        }
      ]
    },
    {
      "cell_type": "code",
      "metadata": {
        "id": "FZFV4GmIkxUx",
        "colab_type": "code",
        "outputId": "1bc9a4ae-ee55-49a6-c74e-1cc4d5193320",
        "colab": {
          "base_uri": "https://localhost:8080/",
          "height": 312
        }
      },
      "source": [
        "probs = knn.predict_proba(X_test)  \n",
        "probs = probs[:, 1]  \n",
        "fper, tper, thresholds = roc_curve(y_test, probs) \n",
        "plt.plot(fper, tper)\n",
        "plt.plot([0,1], [0,1], 'k--')\n",
        "plt.xlabel('False Positive Rate')\n",
        "plt.ylabel('True Positive Rate')\n",
        "plt.title('KNN Classifier ROC curve')\n",
        "plt.show()\n",
        "print(\"AUC Score :\", roc_auc_score(y_test,probs))"
      ],
      "execution_count": 35,
      "outputs": [
        {
          "output_type": "display_data",
          "data": {
            "image/png": "[encoded data removed]",
            "text/plain": [
              "<Figure size 432x288 with 1 Axes>"
            ]
          },
          "metadata": {
            "tags": [],
            "needs_background": "light"
          }
        },
        {
          "output_type": "stream",
          "text": [
            "AUC Score : 0.7486742424242424\n"
          ],
          "name": "stdout"
        }
      ]
    },
    {
      "cell_type": "code",
      "metadata": {
        "id": "9_z3hisplPKu",
        "colab_type": "code",
        "outputId": "93edf6bc-1fed-457a-8429-7ba0a09db749",
        "colab": {
          "base_uri": "https://localhost:8080/",
          "height": 269
        }
      },
      "source": [
        "log_pro = LogisticRegression()\n",
        "log_reg = CalibratedClassifierCV(log_pro)\n",
        "log_reg.fit(X_train, y_train)"
      ],
      "execution_count": 36,
      "outputs": [
        {
          "output_type": "execute_result",
          "data": {
            "text/plain": [
              "CalibratedClassifierCV(base_estimator=LogisticRegression(C=1.0,\n",
              "                                                         class_weight=None,\n",
              "                                                         dual=False,\n",
              "                                                         fit_intercept=True,\n",
              "                                                         intercept_scaling=1,\n",
              "                                                         l1_ratio=None,\n",
              "                                                         max_iter=100,\n",
              "                                                         multi_class='auto',\n",
              "                                                         n_jobs=None,\n",
              "                                                         penalty='l2',\n",
              "                                                         random_state=None,\n",
              "                                                         solver='lbfgs',\n",
              "                                                         tol=0.0001, verbose=0,\n",
              "                                                         warm_start=False),\n",
              "                       cv=None, method='sigmoid')"
            ]
          },
          "metadata": {
            "tags": []
          },
          "execution_count": 36
        }
      ]
    },
    {
      "cell_type": "code",
      "metadata": {
        "id": "pzgfRIvKlt2e",
        "colab_type": "code",
        "outputId": "7c9c5027-270d-44d9-ea67-fecf04d7f846",
        "colab": {
          "base_uri": "https://localhost:8080/",
          "height": 353
        }
      },
      "source": [
        "y_test_pred = log_reg.predict(X_test)\n",
        "y_train_pred = log_reg.predict(X_train)\n",
        "\n",
        "print(\"Training Data Stats :\") \n",
        "print(classification_report(y_train_pred, y_train))\n",
        "print(\"Test Data Stats :\") \n",
        "print(classification_report(y_test_pred, y_test))"
      ],
      "execution_count": 37,
      "outputs": [
        {
          "output_type": "stream",
          "text": [
            "Training Data Stats :\n",
            "              precision    recall  f1-score   support\n",
            "\n",
            "           0       0.98      0.88      0.93       754\n",
            "           1       0.39      0.81      0.52        68\n",
            "\n",
            "    accuracy                           0.88       822\n",
            "   macro avg       0.68      0.85      0.73       822\n",
            "weighted avg       0.93      0.88      0.90       822\n",
            "\n",
            "Test Data Stats :\n",
            "              precision    recall  f1-score   support\n",
            "\n",
            "           0       0.96      0.90      0.93       187\n",
            "           1       0.40      0.63      0.49        19\n",
            "\n",
            "    accuracy                           0.88       206\n",
            "   macro avg       0.68      0.77      0.71       206\n",
            "weighted avg       0.91      0.88      0.89       206\n",
            "\n"
          ],
          "name": "stdout"
        }
      ]
    },
    {
      "cell_type": "code",
      "metadata": {
        "id": "9wd_1-fXl0tc",
        "colab_type": "code",
        "outputId": "c910208c-f708-4bc1-d7d9-b4c5fdc435af",
        "colab": {
          "base_uri": "https://localhost:8080/",
          "height": 312
        }
      },
      "source": [
        "probs = log_reg.predict_proba(X_test)  \n",
        "probs = probs[:, 1]  \n",
        "fper, tper, thresholds = roc_curve(y_test, probs) \n",
        "plt.plot(fper, tper)\n",
        "plt.plot([0,1], [0,1], 'k--')\n",
        "plt.xlabel('False Positive Rate')\n",
        "plt.ylabel('True Positive Rate')\n",
        "plt.title('Logistic Regression ROC curve')\n",
        "plt.show()\n",
        "print(\"AUC Score :\", roc_auc_score(y_test,probs))"
      ],
      "execution_count": 38,
      "outputs": [
        {
          "output_type": "display_data",
          "data": {
            "image/png": "[encoded data removed]",
            "text/plain": [
              "<Figure size 432x288 with 1 Axes>"
            ]
          },
          "metadata": {
            "tags": [],
            "needs_background": "light"
          }
        },
        {
          "output_type": "stream",
          "text": [
            "AUC Score : 0.8445075757575758\n"
          ],
          "name": "stdout"
        }
      ]
    },
    {
      "cell_type": "markdown",
      "metadata": {
        "id": "i0Ce9O6NwHoC",
        "colab_type": "text"
      },
      "source": [
        "Looking at the AUC scores, the best classifier among the ones I trained is the Logistoc Regression Model which has an accuracy of approximately $88\\%$."
      ]
    },
    {
      "cell_type": "markdown",
      "metadata": {
        "id": "_FDyvIvYeDAs",
        "colab_type": "text"
      },
      "source": [
        "# K-Fold Validation Section"
      ]
    },
    {
      "cell_type": "code",
      "metadata": {
        "id": "asGJSJUbeKVr",
        "colab_type": "code",
        "colab": {}
      },
      "source": [
        "from sklearn.model_selection import KFold, cross_val_score, StratifiedKFold\n",
        "k_fold = KFold(n_splits = 10)\n",
        "sk_fold = StratifiedKFold(n_splits = 10)"
      ],
      "execution_count": 0,
      "outputs": []
    },
    {
      "cell_type": "code",
      "metadata": {
        "id": "GAmLvwBdF2q3",
        "colab_type": "code",
        "outputId": "caa31639-113c-427c-8459-522e8efdad59",
        "colab": {
          "base_uri": "https://localhost:8080/",
          "height": 34
        }
      },
      "source": [
        "knn = KNeighborsClassifier()\n",
        "result = cross_val_score(knn, X, y, cv = sk_fold)\n",
        "print(\"Accuracy :\", result.mean())"
      ],
      "execution_count": 40,
      "outputs": [
        {
          "output_type": "stream",
          "text": [
            "Accuracy : 0.8433466590519701\n"
          ],
          "name": "stdout"
        }
      ]
    },
    {
      "cell_type": "code",
      "metadata": {
        "id": "0EF2FAJqeMH6",
        "colab_type": "code",
        "outputId": "b29b185b-1f5c-4976-a5ca-0acf61127b75",
        "colab": {
          "base_uri": "https://localhost:8080/",
          "height": 34
        }
      },
      "source": [
        "xgb = XGBClassifier(n_estimators = 40)\n",
        "result = cross_val_score(xgb, X, y, cv = sk_fold)\n",
        "print(\"Accuracy :\", result.mean())"
      ],
      "execution_count": 41,
      "outputs": [
        {
          "output_type": "stream",
          "text": [
            "Accuracy : 0.8472301541976013\n"
          ],
          "name": "stdout"
        }
      ]
    },
    {
      "cell_type": "code",
      "metadata": {
        "id": "6hllFTkIeL7a",
        "colab_type": "code",
        "outputId": "1b210e05-aabb-4aa7-c43f-1174fd1e0206",
        "colab": {
          "base_uri": "https://localhost:8080/",
          "height": 34
        }
      },
      "source": [
        "lgbm = LGBMClassifier(n_estimators = 60)\n",
        "result = cross_val_score(lgbm, X, y, cv = sk_fold)\n",
        "print(\"Accuracy :\", result.mean())"
      ],
      "execution_count": 42,
      "outputs": [
        {
          "output_type": "stream",
          "text": [
            "Accuracy : 0.853064915286503\n"
          ],
          "name": "stdout"
        }
      ]
    },
    {
      "cell_type": "code",
      "metadata": {
        "id": "sqY6eSnceLtq",
        "colab_type": "code",
        "outputId": "a9ff0210-7063-40bd-87ba-cb3d16d6c0ae",
        "colab": {
          "base_uri": "https://localhost:8080/",
          "height": 34
        }
      },
      "source": [
        "svm = SVC()\n",
        "result = cross_val_score(svm, X, y, cv = sk_fold)\n",
        "print(\"Accuracy :\", result.mean())"
      ],
      "execution_count": 43,
      "outputs": [
        {
          "output_type": "stream",
          "text": [
            "Accuracy : 0.8560536836093661\n"
          ],
          "name": "stdout"
        }
      ]
    },
    {
      "cell_type": "code",
      "metadata": {
        "id": "64L8rO-JeLWB",
        "colab_type": "code",
        "outputId": "b155ab11-18b1-4fee-dfe9-6aa6dd7bd1bc",
        "colab": {
          "base_uri": "https://localhost:8080/",
          "height": 34
        }
      },
      "source": [
        "svmp = SVC(kernel = 'poly')\n",
        "result = cross_val_score(svmp, X, y, cv = sk_fold)\n",
        "print(\"Accuracy :\", result.mean())"
      ],
      "execution_count": 44,
      "outputs": [
        {
          "output_type": "stream",
          "text": [
            "Accuracy : 0.8501237388159147\n"
          ],
          "name": "stdout"
        }
      ]
    },
    {
      "cell_type": "code",
      "metadata": {
        "id": "3Ftq_IsCgdXr",
        "colab_type": "code",
        "outputId": "23d17021-9e22-4883-e509-8addb30b8b5a",
        "colab": {
          "base_uri": "https://localhost:8080/",
          "height": 34
        }
      },
      "source": [
        "log_reg = LogisticRegression()\n",
        "result = cross_val_score(log_reg, X, y, cv = sk_fold)\n",
        "print(\"Accuracy :\", result.mean())"
      ],
      "execution_count": 45,
      "outputs": [
        {
          "output_type": "stream",
          "text": [
            "Accuracy : 0.8686369693508471\n"
          ],
          "name": "stdout"
        }
      ]
    },
    {
      "cell_type": "code",
      "metadata": {
        "id": "jUN_YAeBgtND",
        "colab_type": "code",
        "outputId": "67cb027c-a1eb-4742-e802-e89da675f9e4",
        "colab": {
          "base_uri": "https://localhost:8080/",
          "height": 34
        }
      },
      "source": [
        "rfc = RandomForestClassifier(n_estimators = 60)\n",
        "result = cross_val_score(log_reg, X, y, cv = sk_fold)\n",
        "print(\"Accuracy :\", result.mean())"
      ],
      "execution_count": 46,
      "outputs": [
        {
          "output_type": "stream",
          "text": [
            "Accuracy : 0.8686369693508471\n"
          ],
          "name": "stdout"
        }
      ]
    },
    {
      "cell_type": "code",
      "metadata": {
        "id": "5jMr8qO9hPLt",
        "colab_type": "code",
        "colab": {}
      },
      "source": [
        "from sklearn.neural_network import MLPClassifier"
      ],
      "execution_count": 0,
      "outputs": []
    },
    {
      "cell_type": "code",
      "metadata": {
        "id": "sxc1EMPLhazm",
        "colab_type": "code",
        "outputId": "9e73d023-c4c7-4c1e-89b1-f198160e86c1",
        "colab": {
          "base_uri": "https://localhost:8080/",
          "height": 34
        }
      },
      "source": [
        "nn = MLPClassifier(max_iter = 1500, activation = 'tanh')\n",
        "result = cross_val_score(nn, X, y, cv = sk_fold)\n",
        "print(\"Accuracy :\", result.mean())"
      ],
      "execution_count": 48,
      "outputs": [
        {
          "output_type": "stream",
          "text": [
            "Accuracy : 0.8462307252998287\n"
          ],
          "name": "stdout"
        }
      ]
    },
    {
      "cell_type": "code",
      "metadata": {
        "id": "34OiBgxFhaTt",
        "colab_type": "code",
        "outputId": "5cd50d76-1c04-4e48-d385-aa82cbb02993",
        "colab": {
          "base_uri": "https://localhost:8080/",
          "height": 34
        }
      },
      "source": [
        "nn = MLPClassifier(hidden_layer_sizes = (50,40,30), max_iter = 1200)\n",
        "result = cross_val_score(nn, X, y, cv = sk_fold)\n",
        "print(\"Accuracy :\", result.mean())"
      ],
      "execution_count": 49,
      "outputs": [
        {
          "output_type": "stream",
          "text": [
            "Accuracy : 0.8277460498762611\n"
          ],
          "name": "stdout"
        }
      ]
    },
    {
      "cell_type": "code",
      "metadata": {
        "id": "Fm8K9_qVEBbT",
        "colab_type": "code",
        "outputId": "4cef6421-d5b3-4cd1-a1b5-cab419231255",
        "colab": {
          "base_uri": "https://localhost:8080/",
          "height": 34
        }
      },
      "source": [
        "print(\"Trivial Accuracy :\", (y == 0).mean())"
      ],
      "execution_count": 50,
      "outputs": [
        {
          "output_type": "stream",
          "text": [
            "Trivial Accuracy : 0.8326848249027238\n"
          ],
          "name": "stdout"
        }
      ]
    },
    {
      "cell_type": "markdown",
      "metadata": {
        "id": "uSnPc1eajRLI",
        "colab_type": "text"
      },
      "source": [
        "# Conclusion\n",
        "The K-Fold Validation gives a low validation score as compared to train test split method, and possibly a more realistic measure of the model performance on test data"
      ]
    },
    {
      "cell_type": "markdown",
      "metadata": {
        "id": "Z6Z7spcObKvd",
        "colab_type": "text"
      },
      "source": [
        "## Resources:\n",
        "\n",
        "* You might want to refer to the [lecture notebook](https://github.com/shala2020/shala2020.github.io/tree/master/Lecture_Materials/Google_Colab_Notebooks/MachineLearning/L1) for revising the concepts.\n",
        "* You can also refer to the pre-work material for the first lecture on ML.  "
      ]
    }
  ]
}