{
  "nbformat": 4,
  "nbformat_minor": 0,
  "metadata": {
    "colab": {
      "name": "YashSanjeev_DL_Assignment1.ipynb",
      "provenance": [],
      "authorship_tag": "ABX9TyO9tvlFqmc+dnKBUfLHJamU",
      "include_colab_link": true
    },
    "kernelspec": {
      "name": "python3",
      "display_name": "Python 3"
    },
    "accelerator": "GPU"
  },
  "cells": [
    {
      "cell_type": "markdown",
      "metadata": {
        "id": "view-in-github",
        "colab_type": "text"
      },
      "source": [
        "<a href=\"https://colab.research.google.com/github/sanjivyash/SHALA2020/blob/master/YashSanjeev_DL_Assignment1.ipynb\" target=\"_parent\"><img src=\"https://colab.research.google.com/assets/colab-badge.svg\" alt=\"Open In Colab\"/></a>"
      ]
    },
    {
      "cell_type": "code",
      "metadata": {
        "id": "PZHFAqQCi8or",
        "colab_type": "code",
        "colab": {}
      },
      "source": [
        "%matplotlib inline\n",
        "%tensorflow_version 2.x\n",
        "\n",
        "import os\n",
        "import tensorflow as tf\n",
        "from tensorflow import keras\n",
        "from keras import models, layers, datasets"
      ],
      "execution_count": 0,
      "outputs": []
    },
    {
      "cell_type": "code",
      "metadata": {
        "id": "2zgwPMLhjX-w",
        "colab_type": "code",
        "outputId": "82f4c29a-3ac6-4f3f-8658-12e32230b91c",
        "colab": {
          "base_uri": "https://localhost:8080/",
          "height": 50
        }
      },
      "source": [
        "print(tf.__version__)\n",
        "\n",
        "device_name = tf.test.gpu_device_name()\n",
        "if device_name != '/device:GPU:0':\n",
        "    raise SystemError('GPU device not found')\n",
        "print('Found GPU at: {}'.format(device_name))"
      ],
      "execution_count": 0,
      "outputs": [
        {
          "output_type": "stream",
          "text": [
            "2.2.0\n",
            "Found GPU at: /device:GPU:0\n"
          ],
          "name": "stdout"
        }
      ]
    },
    {
      "cell_type": "code",
      "metadata": {
        "id": "fkLKVXAnjwYZ",
        "colab_type": "code",
        "colab": {}
      },
      "source": [
        "import numpy as np\n",
        "import cv2 as cv\n",
        "from tqdm.notebook import tqdm\n",
        "import matplotlib.pyplot as plt"
      ],
      "execution_count": 0,
      "outputs": []
    },
    {
      "cell_type": "markdown",
      "metadata": {
        "id": "i-2JrBz7vatK",
        "colab_type": "text"
      },
      "source": [
        "# MNIST Dataset"
      ]
    },
    {
      "cell_type": "code",
      "metadata": {
        "id": "P_cZNDBWj8Nh",
        "colab_type": "code",
        "outputId": "8466ff9a-6188-4abc-b0ac-50057c0e59ce",
        "colab": {
          "base_uri": "https://localhost:8080/",
          "height": 50
        }
      },
      "source": [
        "(X_train, y_train), (X_test, y_test) = datasets.mnist.load_data()\n",
        "print(X_train.shape, y_train.shape)\n",
        "print(X_test.shape, y_test.shape)"
      ],
      "execution_count": 0,
      "outputs": [
        {
          "output_type": "stream",
          "text": [
            "(60000, 28, 28) (60000,)\n",
            "(10000, 28, 28) (10000,)\n"
          ],
          "name": "stdout"
        }
      ]
    },
    {
      "cell_type": "code",
      "metadata": {
        "id": "t3unt80lnkRZ",
        "colab_type": "code",
        "outputId": "3f06ed56-60e8-429c-8a26-9b7f5df16105",
        "colab": {
          "base_uri": "https://localhost:8080/",
          "height": 50
        }
      },
      "source": [
        "print(X_train[0].shape, X_test[0].shape)\n",
        "print(type(X_train[0]))"
      ],
      "execution_count": 0,
      "outputs": [
        {
          "output_type": "stream",
          "text": [
            "(28, 28) (28, 28)\n",
            "<class 'numpy.ndarray'>\n"
          ],
          "name": "stdout"
        }
      ]
    },
    {
      "cell_type": "code",
      "metadata": {
        "id": "WMfm-5tArApj",
        "colab_type": "code",
        "colab": {}
      },
      "source": [
        "X_train = keras.utils.normalize(X_train)\n",
        "X_test = keras.utils.normalize(X_test)\n",
        "\n",
        "X_train = X_train.reshape(-1,28,28,1)\n",
        "X_test = X_test.reshape(-1,28,28,1)"
      ],
      "execution_count": 0,
      "outputs": []
    },
    {
      "cell_type": "code",
      "metadata": {
        "id": "H53eOWzSrR_L",
        "colab_type": "code",
        "colab": {}
      },
      "source": [
        "np.random.seed(seed=69)\n",
        "permutation = np.random.permutation(len(X_train))\n",
        "\n",
        "X_valid = X_train[:500]\n",
        "X_train = X_train[500:]\n",
        "\n",
        "y_valid = y_train[:500]\n",
        "y_train = y_train[500:]"
      ],
      "execution_count": 0,
      "outputs": []
    },
    {
      "cell_type": "code",
      "metadata": {
        "id": "z1qV-Y1gkeNO",
        "colab_type": "code",
        "outputId": "8d1ae3db-382c-4ae7-c254-21c004df06db",
        "colab": {
          "base_uri": "https://localhost:8080/",
          "height": 34
        }
      },
      "source": [
        "lenet = models.Sequential()\n",
        "\n",
        "lenet.add(layers.Conv2D(filters=6 ,kernel_size=(5,5), padding='same', activation='relu', input_shape=(28,28,1)))\n",
        "lenet.add(layers.AvgPool2D())\n",
        "\n",
        "lenet.add(layers.Conv2D(filters=16 ,kernel_size=(5,5), padding='valid', activation='relu'))\n",
        "lenet.add(layers.AvgPool2D())\n",
        "\n",
        "lenet.add(layers.Flatten())\n",
        "lenet.add(layers.Dense(120, activation='relu'))\n",
        "lenet.add(layers.Dense(84, activation='relu'))\n",
        "lenet.add(layers.Dense(10, activation='softmax'))\n",
        "\n",
        "x = np.random.randn(1,28,28,1)\n",
        "lenet.predict(x).shape"
      ],
      "execution_count": 0,
      "outputs": [
        {
          "output_type": "execute_result",
          "data": {
            "text/plain": [
              "(1, 10)"
            ]
          },
          "metadata": {
            "tags": []
          },
          "execution_count": 96
        }
      ]
    },
    {
      "cell_type": "code",
      "metadata": {
        "id": "Dp2beQiVlna_",
        "colab_type": "code",
        "outputId": "7f638bfa-0ea2-4678-fbfc-46d8651ecf5c",
        "colab": {
          "base_uri": "https://localhost:8080/",
          "height": 218
        }
      },
      "source": [
        "lenet.compile(optimizer='adam', loss='sparse_categorical_crossentropy', metrics=['accuracy'])\n",
        "lenet.fit(X_train, y_train, batch_size=64, epochs=5, validation_data=(X_valid, y_valid))"
      ],
      "execution_count": 0,
      "outputs": [
        {
          "output_type": "stream",
          "text": [
            "Train on 59500 samples, validate on 500 samples\n",
            "Epoch 1/5\n",
            "59500/59500 [==============================] - 7s 111us/step - loss: 0.3341 - accuracy: 0.8954 - val_loss: 0.1261 - val_accuracy: 0.9580\n",
            "Epoch 2/5\n",
            "59500/59500 [==============================] - 6s 107us/step - loss: 0.0989 - accuracy: 0.9692 - val_loss: 0.0905 - val_accuracy: 0.9720\n",
            "Epoch 3/5\n",
            "59500/59500 [==============================] - 6s 108us/step - loss: 0.0683 - accuracy: 0.9780 - val_loss: 0.0997 - val_accuracy: 0.9720\n",
            "Epoch 4/5\n",
            "59500/59500 [==============================] - 6s 108us/step - loss: 0.0526 - accuracy: 0.9831 - val_loss: 0.0564 - val_accuracy: 0.9840\n",
            "Epoch 5/5\n",
            "59500/59500 [==============================] - 6s 108us/step - loss: 0.0422 - accuracy: 0.9869 - val_loss: 0.0700 - val_accuracy: 0.9840\n"
          ],
          "name": "stdout"
        },
        {
          "output_type": "execute_result",
          "data": {
            "text/plain": [
              "<keras.callbacks.callbacks.History at 0x7fdf1ddc2fd0>"
            ]
          },
          "metadata": {
            "tags": []
          },
          "execution_count": 97
        }
      ]
    },
    {
      "cell_type": "code",
      "metadata": {
        "id": "4PnyIt7hqwdp",
        "colab_type": "code",
        "outputId": "d63c6797-67b7-4331-d9ef-9f28d5019d78",
        "colab": {
          "base_uri": "https://localhost:8080/",
          "height": 50
        }
      },
      "source": [
        "lenet.evaluate(X_test, y_test)"
      ],
      "execution_count": 0,
      "outputs": [
        {
          "output_type": "stream",
          "text": [
            "10000/10000 [==============================] - 1s 81us/step\n"
          ],
          "name": "stdout"
        },
        {
          "output_type": "execute_result",
          "data": {
            "text/plain": [
              "[0.03755041592342313, 0.9883000254631042]"
            ]
          },
          "metadata": {
            "tags": []
          },
          "execution_count": 98
        }
      ]
    },
    {
      "cell_type": "markdown",
      "metadata": {
        "id": "ooS6m1USu1QJ",
        "colab_type": "text"
      },
      "source": [
        "## Evaluation Info\n",
        "\n",
        "*   **Model :** LeNet5\n",
        "*   **Training Accuracy :** 98.69%\n",
        "*   **Validation Accuracy :** 98.40%\n",
        "*   **Test Accuracy :** 98.83%\n",
        "\n"
      ]
    },
    {
      "cell_type": "markdown",
      "metadata": {
        "id": "w4vApZNxveT1",
        "colab_type": "text"
      },
      "source": [
        "# Fashion MNIST Dataset"
      ]
    },
    {
      "cell_type": "markdown",
      "metadata": {
        "id": "rz_dqo2J11CF",
        "colab_type": "text"
      },
      "source": [
        "## Dataset Without Augmentation"
      ]
    },
    {
      "cell_type": "code",
      "metadata": {
        "id": "mY6erNu5uX0p",
        "colab_type": "code",
        "outputId": "cdc38994-e704-4b55-a6a9-20af9a74bb27",
        "colab": {
          "base_uri": "https://localhost:8080/",
          "height": 50
        }
      },
      "source": [
        "(X_train, y_train), (X_test, y_test) = datasets.fashion_mnist.load_data()\n",
        "print(X_train.shape, y_train.shape)\n",
        "print(X_test.shape, y_test.shape)"
      ],
      "execution_count": 0,
      "outputs": [
        {
          "output_type": "stream",
          "text": [
            "(60000, 28, 28) (60000,)\n",
            "(10000, 28, 28) (10000,)\n"
          ],
          "name": "stdout"
        }
      ]
    },
    {
      "cell_type": "code",
      "metadata": {
        "id": "BdxTwwqXvpqQ",
        "colab_type": "code",
        "colab": {}
      },
      "source": [
        "X_train = keras.utils.normalize(X_train)\n",
        "X_test = keras.utils.normalize(X_test)\n",
        "\n",
        "X_train = X_train.reshape(-1,28,28,1)\n",
        "X_test = X_test.reshape(-1,28,28,1)"
      ],
      "execution_count": 0,
      "outputs": []
    },
    {
      "cell_type": "code",
      "metadata": {
        "id": "wqU0hZBlwHWU",
        "colab_type": "code",
        "colab": {}
      },
      "source": [
        "np.random.seed(seed=69)\n",
        "permutation = np.random.permutation(len(X_train))\n",
        "\n",
        "X_valid = X_train[:500]\n",
        "X_train = X_train[500:]\n",
        "\n",
        "y_valid = y_train[:500]\n",
        "y_train = y_train[500:]"
      ],
      "execution_count": 0,
      "outputs": []
    },
    {
      "cell_type": "code",
      "metadata": {
        "id": "iBFbdC8ivwXp",
        "colab_type": "code",
        "outputId": "a1c46627-bb84-4f01-ce47-1c2f9d916838",
        "colab": {
          "base_uri": "https://localhost:8080/",
          "height": 34
        }
      },
      "source": [
        "lenet = models.Sequential()\n",
        "\n",
        "lenet.add(layers.Conv2D(filters=6 ,kernel_size=(5,5), padding='same', activation='relu', input_shape=(28,28,1)))\n",
        "lenet.add(layers.AvgPool2D())\n",
        "\n",
        "lenet.add(layers.Conv2D(filters=16 ,kernel_size=(5,5), padding='valid', activation='relu'))\n",
        "lenet.add(layers.AvgPool2D())\n",
        "\n",
        "lenet.add(layers.Flatten())\n",
        "lenet.add(layers.Dense(120, activation='relu'))\n",
        "lenet.add(layers.Dense(84, activation='relu'))\n",
        "lenet.add(layers.Dense(10, activation='softmax'))\n",
        "\n",
        "x = np.random.randn(1,28,28,1)\n",
        "lenet.predict(x).shape"
      ],
      "execution_count": 0,
      "outputs": [
        {
          "output_type": "execute_result",
          "data": {
            "text/plain": [
              "(1, 10)"
            ]
          },
          "metadata": {
            "tags": []
          },
          "execution_count": 102
        }
      ]
    },
    {
      "cell_type": "code",
      "metadata": {
        "id": "vEbsANqLvy0_",
        "colab_type": "code",
        "outputId": "971e3262-14b1-4bb2-d965-c83585dce624",
        "colab": {
          "base_uri": "https://localhost:8080/",
          "height": 370
        }
      },
      "source": [
        "lenet.compile(optimizer='adam', loss='sparse_categorical_crossentropy', metrics=['accuracy'])\n",
        "Fit = lenet.fit(X_train, y_train, batch_size=64, epochs=10, validation_data=(X_valid, y_valid))"
      ],
      "execution_count": 0,
      "outputs": [
        {
          "output_type": "stream",
          "text": [
            "Train on 59500 samples, validate on 500 samples\n",
            "Epoch 1/10\n",
            "59500/59500 [==============================] - 7s 111us/step - loss: 0.6263 - accuracy: 0.7674 - val_loss: 0.4284 - val_accuracy: 0.8640\n",
            "Epoch 2/10\n",
            "59500/59500 [==============================] - 6s 107us/step - loss: 0.4267 - accuracy: 0.8429 - val_loss: 0.3650 - val_accuracy: 0.8820\n",
            "Epoch 3/10\n",
            "59500/59500 [==============================] - 6s 108us/step - loss: 0.3772 - accuracy: 0.8616 - val_loss: 0.3135 - val_accuracy: 0.8960\n",
            "Epoch 4/10\n",
            "59500/59500 [==============================] - 7s 116us/step - loss: 0.3455 - accuracy: 0.8727 - val_loss: 0.3032 - val_accuracy: 0.8880\n",
            "Epoch 5/10\n",
            "59500/59500 [==============================] - 7s 111us/step - loss: 0.3215 - accuracy: 0.8820 - val_loss: 0.2713 - val_accuracy: 0.8920\n",
            "Epoch 6/10\n",
            "59500/59500 [==============================] - 6s 107us/step - loss: 0.3055 - accuracy: 0.8855 - val_loss: 0.2666 - val_accuracy: 0.9000\n",
            "Epoch 7/10\n",
            "59500/59500 [==============================] - 6s 108us/step - loss: 0.2885 - accuracy: 0.8919 - val_loss: 0.2540 - val_accuracy: 0.9140\n",
            "Epoch 8/10\n",
            "59500/59500 [==============================] - 6s 107us/step - loss: 0.2745 - accuracy: 0.8988 - val_loss: 0.2483 - val_accuracy: 0.9060\n",
            "Epoch 9/10\n",
            "59500/59500 [==============================] - 6s 108us/step - loss: 0.2642 - accuracy: 0.9006 - val_loss: 0.2446 - val_accuracy: 0.9060\n",
            "Epoch 10/10\n",
            "59500/59500 [==============================] - 6s 108us/step - loss: 0.2540 - accuracy: 0.9049 - val_loss: 0.2296 - val_accuracy: 0.9140\n"
          ],
          "name": "stdout"
        }
      ]
    },
    {
      "cell_type": "code",
      "metadata": {
        "id": "JT_KutwwwVdm",
        "colab_type": "code",
        "outputId": "9f6317db-aab4-423f-d272-f3d0c5eb3e1b",
        "colab": {
          "base_uri": "https://localhost:8080/",
          "height": 390
        }
      },
      "source": [
        "fig, (ax1,ax2) = plt.subplots(1, 2, figsize=(15,6))\n",
        "\n",
        "ax1.set_title('Loss Graph')\n",
        "ax1.plot(Fit.history['loss'], label='Training Loss')\n",
        "ax1.plot(Fit.history['val_loss'], label='Validation Loss')\n",
        "ax1.legend()\n",
        "\n",
        "ax2.set_title('Accuracy Graph')\n",
        "ax2.plot(Fit.history['accuracy'], label='Training Accuracy')\n",
        "ax2.plot(Fit.history['val_accuracy'], label='Validation Accuracy')\n",
        "ax2.legend()\n",
        "\n",
        "plt.show()"
      ],
      "execution_count": 0,
      "outputs": [
        {
          "output_type": "display_data",
          "data": {
            "image/png": "[encoded data removed]",
            "text/plain": [
              "<Figure size 1080x432 with 2 Axes>"
            ]
          },
          "metadata": {
            "tags": [],
            "needs_background": "light"
          }
        }
      ]
    },
    {
      "cell_type": "code",
      "metadata": {
        "id": "7NDZshUjv06Y",
        "colab_type": "code",
        "outputId": "197ad9b0-3a20-46ab-844b-4bad493e7951",
        "colab": {
          "base_uri": "https://localhost:8080/",
          "height": 202
        }
      },
      "source": [
        "Fit2 = lenet.fit(X_train, y_train, batch_size=64, epochs=5, validation_data=(X_valid, y_valid))"
      ],
      "execution_count": 0,
      "outputs": [
        {
          "output_type": "stream",
          "text": [
            "Train on 59500 samples, validate on 500 samples\n",
            "Epoch 1/5\n",
            "59500/59500 [==============================] - 6s 108us/step - loss: 0.2430 - accuracy: 0.9100 - val_loss: 0.2165 - val_accuracy: 0.9160\n",
            "Epoch 2/5\n",
            "59500/59500 [==============================] - 6s 107us/step - loss: 0.2363 - accuracy: 0.9103 - val_loss: 0.2222 - val_accuracy: 0.9220\n",
            "Epoch 3/5\n",
            "59500/59500 [==============================] - 6s 107us/step - loss: 0.2277 - accuracy: 0.9143 - val_loss: 0.2069 - val_accuracy: 0.9220\n",
            "Epoch 4/5\n",
            "59500/59500 [==============================] - 6s 107us/step - loss: 0.2180 - accuracy: 0.9172 - val_loss: 0.2060 - val_accuracy: 0.9160\n",
            "Epoch 5/5\n",
            "59500/59500 [==============================] - 6s 107us/step - loss: 0.2114 - accuracy: 0.9205 - val_loss: 0.2045 - val_accuracy: 0.9160\n"
          ],
          "name": "stdout"
        }
      ]
    },
    {
      "cell_type": "code",
      "metadata": {
        "id": "O-6Ou1vov_6D",
        "colab_type": "code",
        "outputId": "2b433b65-0e84-40f7-a437-ea3cd8c4947a",
        "colab": {
          "base_uri": "https://localhost:8080/",
          "height": 390
        }
      },
      "source": [
        "fig, (ax1,ax2) = plt.subplots(1, 2, figsize=(15,6))\n",
        "\n",
        "ax1.set_title('Loss Graph')\n",
        "ax1.plot(Fit2.history['loss'], label='Training Loss')\n",
        "ax1.plot(Fit2.history['val_loss'], label='Validation Loss')\n",
        "ax1.legend()\n",
        "\n",
        "ax2.set_title('Accuracy Graph')\n",
        "ax2.plot(Fit2.history['accuracy'], label='Training Accuracy')\n",
        "ax2.plot(Fit2.history['val_accuracy'], label='Validation Accuracy')\n",
        "ax2.legend()\n",
        "\n",
        "plt.show()"
      ],
      "execution_count": 0,
      "outputs": [
        {
          "output_type": "display_data",
          "data": {
            "image/png": "[encoded data removed]",
            "text/plain": [
              "<Figure size 1080x432 with 2 Axes>"
            ]
          },
          "metadata": {
            "tags": [],
            "needs_background": "light"
          }
        }
      ]
    },
    {
      "cell_type": "code",
      "metadata": {
        "id": "NNCN_7kQ1EML",
        "colab_type": "code",
        "outputId": "0ce81dcf-40f5-42c2-bc2c-200362ee9e6a",
        "colab": {
          "base_uri": "https://localhost:8080/",
          "height": 202
        }
      },
      "source": [
        "Fit3 = lenet.fit(X_train, y_train, batch_size=64, epochs=5, validation_data=(X_valid, y_valid))"
      ],
      "execution_count": 0,
      "outputs": [
        {
          "output_type": "stream",
          "text": [
            "Train on 59500 samples, validate on 500 samples\n",
            "Epoch 1/5\n",
            "59500/59500 [==============================] - 6s 108us/step - loss: 0.2026 - accuracy: 0.9228 - val_loss: 0.2258 - val_accuracy: 0.9180\n",
            "Epoch 2/5\n",
            "59500/59500 [==============================] - 6s 108us/step - loss: 0.1984 - accuracy: 0.9250 - val_loss: 0.2008 - val_accuracy: 0.9160\n",
            "Epoch 3/5\n",
            "59500/59500 [==============================] - 6s 108us/step - loss: 0.1910 - accuracy: 0.9280 - val_loss: 0.1975 - val_accuracy: 0.9240\n",
            "Epoch 4/5\n",
            "59500/59500 [==============================] - 6s 107us/step - loss: 0.1852 - accuracy: 0.9304 - val_loss: 0.2201 - val_accuracy: 0.9220\n",
            "Epoch 5/5\n",
            "59500/59500 [==============================] - 6s 108us/step - loss: 0.1817 - accuracy: 0.9312 - val_loss: 0.1984 - val_accuracy: 0.9120\n"
          ],
          "name": "stdout"
        }
      ]
    },
    {
      "cell_type": "code",
      "metadata": {
        "id": "NlW6d80X1QM0",
        "colab_type": "code",
        "outputId": "ff40c28f-dd2e-4905-edbd-12b0ad57897f",
        "colab": {
          "base_uri": "https://localhost:8080/",
          "height": 390
        }
      },
      "source": [
        "fig, (ax1,ax2) = plt.subplots(1, 2, figsize=(15,6))\n",
        "\n",
        "ax1.set_title('Loss Graph')\n",
        "ax1.plot(Fit3.history['loss'], label='Training Loss')\n",
        "ax1.plot(Fit3.history['val_loss'], label='Validation Loss')\n",
        "ax1.legend()\n",
        "\n",
        "ax2.set_title('Accuracy Graph')\n",
        "ax2.plot(Fit3.history['accuracy'], label='Training Accuracy')\n",
        "ax2.plot(Fit3.history['val_accuracy'], label='Validation Accuracy')\n",
        "ax2.legend()\n",
        "\n",
        "plt.show()"
      ],
      "execution_count": 0,
      "outputs": [
        {
          "output_type": "display_data",
          "data": {
            "image/png": "[encoded data removed]",
            "text/plain": [
              "<Figure size 1080x432 with 2 Axes>"
            ]
          },
          "metadata": {
            "tags": [],
            "needs_background": "light"
          }
        }
      ]
    },
    {
      "cell_type": "code",
      "metadata": {
        "id": "HjxCbcO71Tid",
        "colab_type": "code",
        "outputId": "6f6e94aa-5438-47e3-b186-fb81e84fede7",
        "colab": {
          "base_uri": "https://localhost:8080/",
          "height": 50
        }
      },
      "source": [
        "lenet.evaluate(X_test, y_test)"
      ],
      "execution_count": 0,
      "outputs": [
        {
          "output_type": "stream",
          "text": [
            "10000/10000 [==============================] - 1s 84us/step\n"
          ],
          "name": "stdout"
        },
        {
          "output_type": "execute_result",
          "data": {
            "text/plain": [
              "[0.2835498652935028, 0.9038000106811523]"
            ]
          },
          "metadata": {
            "tags": []
          },
          "execution_count": 109
        }
      ]
    },
    {
      "cell_type": "markdown",
      "metadata": {
        "id": "Hfpw-shv1mS_",
        "colab_type": "text"
      },
      "source": [
        "## Evaluation Info\n",
        "\n",
        "*   **Model :** LeNet5\n",
        "*   **Training Accuracy :** 93.12%\n",
        "*   **Validation Accuracy :** 91.20%\n",
        "*   **Test Accuracy :** 90.38%"
      ]
    },
    {
      "cell_type": "markdown",
      "metadata": {
        "id": "YyeH_MhO17Sm",
        "colab_type": "text"
      },
      "source": [
        "## Augmented Dataset"
      ]
    },
    {
      "cell_type": "code",
      "metadata": {
        "id": "O1MnrsKG1l__",
        "colab_type": "code",
        "outputId": "e5e27670-163b-4d2e-d6b6-c4591153f2b8",
        "colab": {
          "base_uri": "https://localhost:8080/",
          "height": 50
        }
      },
      "source": [
        "(X_train, y_train), (X_test, y_test) = datasets.fashion_mnist.load_data()\n",
        "print(X_train.shape, y_train.shape)\n",
        "print(X_test.shape, y_test.shape)"
      ],
      "execution_count": 0,
      "outputs": [
        {
          "output_type": "stream",
          "text": [
            "(60000, 28, 28) (60000,)\n",
            "(10000, 28, 28) (10000,)\n"
          ],
          "name": "stdout"
        }
      ]
    },
    {
      "cell_type": "code",
      "metadata": {
        "id": "e9l2xor21dlc",
        "colab_type": "code",
        "colab": {}
      },
      "source": [
        "X_train = keras.utils.normalize(X_train)\n",
        "X_test = keras.utils.normalize(X_test)\n",
        "\n",
        "X_train = X_train.reshape(-1,28,28,1)\n",
        "X_test = X_test.reshape(-1,28,28,1)"
      ],
      "execution_count": 0,
      "outputs": []
    },
    {
      "cell_type": "code",
      "metadata": {
        "id": "raxXuoht2S5p",
        "colab_type": "code",
        "colab": {}
      },
      "source": [
        "from keras.preprocessing.image import ImageDataGenerator\n",
        "\n",
        "datagen = ImageDataGenerator(        \n",
        "            width_shift_range=0.1,      \n",
        "            height_shift_range=0.1,   \n",
        "            shear_range=0.1,            \n",
        "            zoom_range=0.2,             \n",
        "            horizontal_flip=True,       \n",
        "            fill_mode='nearest'\n",
        "        )"
      ],
      "execution_count": 0,
      "outputs": []
    },
    {
      "cell_type": "code",
      "metadata": {
        "id": "ta1eJfpr42z6",
        "colab_type": "code",
        "colab": {}
      },
      "source": [
        "np.random.seed(seed=69)\n",
        "permutation = np.random.permutation(len(X_train))\n",
        "\n",
        "X_valid = X_train[:2000]\n",
        "X_train = X_train[2000:]\n",
        "\n",
        "y_valid = y_train[:2000]\n",
        "y_train = y_train[2000:]"
      ],
      "execution_count": 0,
      "outputs": []
    },
    {
      "cell_type": "code",
      "metadata": {
        "id": "OflxP1Mg5NX3",
        "colab_type": "code",
        "colab": {}
      },
      "source": [
        "lenet = models.Sequential()\n",
        "\n",
        "lenet.add(layers.Conv2D(filters=6 ,kernel_size=(5,5), padding='same', activation='relu', input_shape=(28,28,1)))\n",
        "lenet.add(layers.AvgPool2D())\n",
        "\n",
        "lenet.add(layers.Conv2D(filters=16 ,kernel_size=(5,5), padding='valid', activation='relu'))\n",
        "lenet.add(layers.AvgPool2D())\n",
        "\n",
        "lenet.add(layers.Flatten())\n",
        "lenet.add(layers.Dense(120, activation='relu'))\n",
        "lenet.add(layers.Dense(84, activation='relu'))\n",
        "lenet.add(layers.Dense(10, activation='softmax'))\n",
        "\n",
        "lenet.compile(optimizer='adam', loss='sparse_categorical_crossentropy', metrics=['accuracy'])"
      ],
      "execution_count": 0,
      "outputs": []
    },
    {
      "cell_type": "code",
      "metadata": {
        "id": "kXpD1WkP5QIp",
        "colab_type": "code",
        "outputId": "de56d1bd-23d8-4f2c-c6a7-7272c63b37e1",
        "colab": {
          "base_uri": "https://localhost:8080/",
          "height": 1000
        }
      },
      "source": [
        "from keras.callbacks import EarlyStopping, ModelCheckpoint, ReduceLROnPlateau\n",
        "\n",
        "model_save = ModelCheckpoint('/content/mdl_wts.hdf5', save_best_only=True, monitor='val_loss', mode='min')\n",
        "early_stopping = EarlyStopping(monitor='val_loss', patience=10, verbose=0, mode='min')\n",
        "reduce = ReduceLROnPlateau(monitor='val_loss', factor=0.1, patience=7, verbose=1, epsilon=1e-4, mode='min')\n",
        "\n",
        "Fit = lenet.fit(datagen.flow(X_train, y_train, batch_size=64), epochs=100, callbacks=[early_stopping, model_save, reduce], validation_data=(X_valid, y_valid))"
      ],
      "execution_count": 0,
      "outputs": [
        {
          "output_type": "stream",
          "text": [
            "/usr/local/lib/python3.6/dist-packages/keras/callbacks/callbacks.py:998: UserWarning: `epsilon` argument is deprecated and will be removed, use `min_delta` instead.\n",
            "  warnings.warn('`epsilon` argument is deprecated and '\n"
          ],
          "name": "stderr"
        },
        {
          "output_type": "stream",
          "text": [
            "Epoch 1/100\n",
            "907/907 [==============================] - 23s 26ms/step - loss: 0.8631 - accuracy: 0.6673 - val_loss: 0.5750 - val_accuracy: 0.7585\n",
            "Epoch 2/100\n",
            "907/907 [==============================] - 23s 25ms/step - loss: 0.6464 - accuracy: 0.7506 - val_loss: 0.4717 - val_accuracy: 0.8300\n",
            "Epoch 3/100\n",
            "907/907 [==============================] - 23s 26ms/step - loss: 0.5890 - accuracy: 0.7721 - val_loss: 0.4540 - val_accuracy: 0.8290\n",
            "Epoch 4/100\n",
            "907/907 [==============================] - 23s 26ms/step - loss: 0.5480 - accuracy: 0.7869 - val_loss: 0.4240 - val_accuracy: 0.8415\n",
            "Epoch 5/100\n",
            "907/907 [==============================] - 23s 25ms/step - loss: 0.5201 - accuracy: 0.8000 - val_loss: 0.4158 - val_accuracy: 0.8330\n",
            "Epoch 6/100\n",
            "907/907 [==============================] - 23s 26ms/step - loss: 0.4923 - accuracy: 0.8104 - val_loss: 0.3799 - val_accuracy: 0.8625\n",
            "Epoch 7/100\n",
            "907/907 [==============================] - 23s 25ms/step - loss: 0.4770 - accuracy: 0.8158 - val_loss: 0.3825 - val_accuracy: 0.8525\n",
            "Epoch 8/100\n",
            "907/907 [==============================] - 23s 26ms/step - loss: 0.4605 - accuracy: 0.8225 - val_loss: 0.3585 - val_accuracy: 0.8590\n",
            "Epoch 9/100\n",
            "907/907 [==============================] - 23s 26ms/step - loss: 0.4449 - accuracy: 0.8295 - val_loss: 0.3673 - val_accuracy: 0.8645\n",
            "Epoch 10/100\n",
            "907/907 [==============================] - 23s 26ms/step - loss: 0.4346 - accuracy: 0.8319 - val_loss: 0.3528 - val_accuracy: 0.8715\n",
            "Epoch 11/100\n",
            "907/907 [==============================] - 24s 26ms/step - loss: 0.4213 - accuracy: 0.8381 - val_loss: 0.3448 - val_accuracy: 0.8715\n",
            "Epoch 12/100\n",
            "907/907 [==============================] - 23s 25ms/step - loss: 0.4168 - accuracy: 0.8385 - val_loss: 0.3312 - val_accuracy: 0.8755\n",
            "Epoch 13/100\n",
            "907/907 [==============================] - 23s 25ms/step - loss: 0.4091 - accuracy: 0.8440 - val_loss: 0.3647 - val_accuracy: 0.8655\n",
            "Epoch 14/100\n",
            "907/907 [==============================] - 23s 25ms/step - loss: 0.4036 - accuracy: 0.8456 - val_loss: 0.3327 - val_accuracy: 0.8740\n",
            "Epoch 15/100\n",
            "907/907 [==============================] - 23s 26ms/step - loss: 0.3955 - accuracy: 0.8479 - val_loss: 0.3254 - val_accuracy: 0.8760\n",
            "Epoch 16/100\n",
            "907/907 [==============================] - 23s 25ms/step - loss: 0.3860 - accuracy: 0.8510 - val_loss: 0.3345 - val_accuracy: 0.8735\n",
            "Epoch 17/100\n",
            "907/907 [==============================] - 24s 26ms/step - loss: 0.3844 - accuracy: 0.8515 - val_loss: 0.3082 - val_accuracy: 0.8900\n",
            "Epoch 18/100\n",
            "907/907 [==============================] - 23s 26ms/step - loss: 0.3776 - accuracy: 0.8547 - val_loss: 0.3120 - val_accuracy: 0.8885\n",
            "Epoch 19/100\n",
            "907/907 [==============================] - 23s 25ms/step - loss: 0.3727 - accuracy: 0.8575 - val_loss: 0.3003 - val_accuracy: 0.8910\n",
            "Epoch 20/100\n",
            "907/907 [==============================] - 23s 25ms/step - loss: 0.3657 - accuracy: 0.8602 - val_loss: 0.3288 - val_accuracy: 0.8745\n",
            "Epoch 21/100\n",
            "907/907 [==============================] - 23s 25ms/step - loss: 0.3668 - accuracy: 0.8604 - val_loss: 0.3327 - val_accuracy: 0.8710\n",
            "Epoch 22/100\n",
            "907/907 [==============================] - 23s 25ms/step - loss: 0.3619 - accuracy: 0.8628 - val_loss: 0.2979 - val_accuracy: 0.8890\n",
            "Epoch 23/100\n",
            "907/907 [==============================] - 23s 26ms/step - loss: 0.3561 - accuracy: 0.8636 - val_loss: 0.3133 - val_accuracy: 0.8790\n",
            "Epoch 24/100\n",
            "907/907 [==============================] - 23s 26ms/step - loss: 0.3532 - accuracy: 0.8651 - val_loss: 0.3016 - val_accuracy: 0.8910\n",
            "Epoch 25/100\n",
            "907/907 [==============================] - 23s 26ms/step - loss: 0.3517 - accuracy: 0.8652 - val_loss: 0.2923 - val_accuracy: 0.8930\n",
            "Epoch 26/100\n",
            "907/907 [==============================] - 23s 26ms/step - loss: 0.3483 - accuracy: 0.8668 - val_loss: 0.2912 - val_accuracy: 0.8930\n",
            "Epoch 27/100\n",
            "907/907 [==============================] - 23s 26ms/step - loss: 0.3456 - accuracy: 0.8687 - val_loss: 0.3112 - val_accuracy: 0.8880\n",
            "Epoch 28/100\n",
            "907/907 [==============================] - 23s 25ms/step - loss: 0.3415 - accuracy: 0.8689 - val_loss: 0.3123 - val_accuracy: 0.8825\n",
            "Epoch 29/100\n",
            "907/907 [==============================] - 23s 26ms/step - loss: 0.3403 - accuracy: 0.8702 - val_loss: 0.2964 - val_accuracy: 0.8895\n",
            "Epoch 30/100\n",
            "907/907 [==============================] - 23s 26ms/step - loss: 0.3367 - accuracy: 0.8710 - val_loss: 0.2781 - val_accuracy: 0.8980\n",
            "Epoch 31/100\n",
            "907/907 [==============================] - 23s 25ms/step - loss: 0.3360 - accuracy: 0.8729 - val_loss: 0.2855 - val_accuracy: 0.8940\n",
            "Epoch 32/100\n",
            "907/907 [==============================] - 23s 26ms/step - loss: 0.3302 - accuracy: 0.8759 - val_loss: 0.2829 - val_accuracy: 0.8915\n",
            "Epoch 33/100\n",
            "907/907 [==============================] - 23s 26ms/step - loss: 0.3298 - accuracy: 0.8757 - val_loss: 0.2823 - val_accuracy: 0.8940\n",
            "Epoch 34/100\n",
            "907/907 [==============================] - 23s 25ms/step - loss: 0.3290 - accuracy: 0.8750 - val_loss: 0.2742 - val_accuracy: 0.8970\n",
            "Epoch 35/100\n",
            "907/907 [==============================] - 23s 25ms/step - loss: 0.3267 - accuracy: 0.8760 - val_loss: 0.2702 - val_accuracy: 0.8985\n",
            "Epoch 36/100\n",
            "907/907 [==============================] - 22s 25ms/step - loss: 0.3227 - accuracy: 0.8777 - val_loss: 0.2591 - val_accuracy: 0.9040\n",
            "Epoch 37/100\n",
            "907/907 [==============================] - 23s 25ms/step - loss: 0.3185 - accuracy: 0.8786 - val_loss: 0.2777 - val_accuracy: 0.8980\n",
            "Epoch 38/100\n",
            "907/907 [==============================] - 23s 25ms/step - loss: 0.3242 - accuracy: 0.8773 - val_loss: 0.2758 - val_accuracy: 0.8965\n",
            "Epoch 39/100\n",
            "907/907 [==============================] - 23s 25ms/step - loss: 0.3196 - accuracy: 0.8794 - val_loss: 0.2609 - val_accuracy: 0.9010\n",
            "Epoch 40/100\n",
            "907/907 [==============================] - 23s 25ms/step - loss: 0.3153 - accuracy: 0.8812 - val_loss: 0.2717 - val_accuracy: 0.8960\n",
            "Epoch 41/100\n",
            "907/907 [==============================] - 23s 25ms/step - loss: 0.3153 - accuracy: 0.8805 - val_loss: 0.2566 - val_accuracy: 0.9045\n",
            "Epoch 42/100\n",
            "907/907 [==============================] - 23s 25ms/step - loss: 0.3131 - accuracy: 0.8817 - val_loss: 0.2667 - val_accuracy: 0.9025\n",
            "Epoch 43/100\n",
            "907/907 [==============================] - 23s 26ms/step - loss: 0.3151 - accuracy: 0.8810 - val_loss: 0.2771 - val_accuracy: 0.8925\n",
            "Epoch 44/100\n",
            "907/907 [==============================] - 23s 25ms/step - loss: 0.3089 - accuracy: 0.8826 - val_loss: 0.2675 - val_accuracy: 0.8975\n",
            "Epoch 45/100\n",
            "907/907 [==============================] - 23s 25ms/step - loss: 0.3095 - accuracy: 0.8823 - val_loss: 0.2684 - val_accuracy: 0.8970\n",
            "Epoch 46/100\n",
            "907/907 [==============================] - 23s 25ms/step - loss: 0.3076 - accuracy: 0.8840 - val_loss: 0.2601 - val_accuracy: 0.9010\n",
            "Epoch 47/100\n",
            "907/907 [==============================] - 23s 25ms/step - loss: 0.3073 - accuracy: 0.8826 - val_loss: 0.2501 - val_accuracy: 0.9080\n",
            "Epoch 48/100\n",
            "907/907 [==============================] - 23s 25ms/step - loss: 0.3070 - accuracy: 0.8827 - val_loss: 0.2672 - val_accuracy: 0.8960\n",
            "Epoch 49/100\n",
            "907/907 [==============================] - 23s 25ms/step - loss: 0.3037 - accuracy: 0.8851 - val_loss: 0.2670 - val_accuracy: 0.9005\n",
            "Epoch 50/100\n",
            "907/907 [==============================] - 23s 25ms/step - loss: 0.3043 - accuracy: 0.8848 - val_loss: 0.2497 - val_accuracy: 0.9055\n",
            "Epoch 51/100\n",
            "907/907 [==============================] - 23s 26ms/step - loss: 0.3013 - accuracy: 0.8860 - val_loss: 0.2570 - val_accuracy: 0.9055\n",
            "Epoch 52/100\n",
            "907/907 [==============================] - 23s 26ms/step - loss: 0.3042 - accuracy: 0.8849 - val_loss: 0.2584 - val_accuracy: 0.9000\n",
            "Epoch 53/100\n",
            "907/907 [==============================] - 23s 25ms/step - loss: 0.3004 - accuracy: 0.8842 - val_loss: 0.2678 - val_accuracy: 0.9055\n",
            "Epoch 54/100\n",
            "907/907 [==============================] - 23s 25ms/step - loss: 0.2978 - accuracy: 0.8869 - val_loss: 0.2633 - val_accuracy: 0.9010\n",
            "Epoch 55/100\n",
            "907/907 [==============================] - 23s 25ms/step - loss: 0.2996 - accuracy: 0.8858 - val_loss: 0.2556 - val_accuracy: 0.9055\n",
            "Epoch 56/100\n",
            "907/907 [==============================] - 23s 26ms/step - loss: 0.2987 - accuracy: 0.8872 - val_loss: 0.2637 - val_accuracy: 0.9040\n",
            "Epoch 57/100\n",
            "907/907 [==============================] - 24s 26ms/step - loss: 0.2978 - accuracy: 0.8870 - val_loss: 0.2605 - val_accuracy: 0.9040\n",
            "\n",
            "Epoch 00057: ReduceLROnPlateau reducing learning rate to 0.00010000000474974513.\n",
            "Epoch 58/100\n",
            "907/907 [==============================] - 23s 25ms/step - loss: 0.2759 - accuracy: 0.8964 - val_loss: 0.2398 - val_accuracy: 0.9115\n",
            "Epoch 59/100\n",
            "907/907 [==============================] - 23s 25ms/step - loss: 0.2702 - accuracy: 0.8972 - val_loss: 0.2441 - val_accuracy: 0.9090\n",
            "Epoch 60/100\n",
            "907/907 [==============================] - 23s 25ms/step - loss: 0.2675 - accuracy: 0.8975 - val_loss: 0.2359 - val_accuracy: 0.9105\n",
            "Epoch 61/100\n",
            "907/907 [==============================] - 23s 25ms/step - loss: 0.2691 - accuracy: 0.8973 - val_loss: 0.2451 - val_accuracy: 0.9065\n",
            "Epoch 62/100\n",
            "907/907 [==============================] - 23s 25ms/step - loss: 0.2670 - accuracy: 0.8985 - val_loss: 0.2430 - val_accuracy: 0.9065\n",
            "Epoch 63/100\n",
            "907/907 [==============================] - 23s 26ms/step - loss: 0.2664 - accuracy: 0.8992 - val_loss: 0.2427 - val_accuracy: 0.9090\n",
            "Epoch 64/100\n",
            "907/907 [==============================] - 23s 25ms/step - loss: 0.2631 - accuracy: 0.9003 - val_loss: 0.2403 - val_accuracy: 0.9115\n",
            "Epoch 65/100\n",
            "907/907 [==============================] - 23s 25ms/step - loss: 0.2636 - accuracy: 0.8992 - val_loss: 0.2424 - val_accuracy: 0.9085\n",
            "Epoch 66/100\n",
            "907/907 [==============================] - 23s 25ms/step - loss: 0.2655 - accuracy: 0.9002 - val_loss: 0.2358 - val_accuracy: 0.9135\n",
            "Epoch 67/100\n",
            "907/907 [==============================] - 23s 26ms/step - loss: 0.2612 - accuracy: 0.9009 - val_loss: 0.2387 - val_accuracy: 0.9095\n",
            "Epoch 68/100\n",
            "907/907 [==============================] - 23s 26ms/step - loss: 0.2651 - accuracy: 0.8996 - val_loss: 0.2464 - val_accuracy: 0.9130\n",
            "Epoch 69/100\n",
            "907/907 [==============================] - 23s 25ms/step - loss: 0.2648 - accuracy: 0.8989 - val_loss: 0.2344 - val_accuracy: 0.9130\n",
            "Epoch 70/100\n",
            "907/907 [==============================] - 23s 25ms/step - loss: 0.2648 - accuracy: 0.8994 - val_loss: 0.2339 - val_accuracy: 0.9145\n",
            "Epoch 71/100\n",
            "907/907 [==============================] - 23s 26ms/step - loss: 0.2634 - accuracy: 0.9000 - val_loss: 0.2362 - val_accuracy: 0.9115\n",
            "Epoch 72/100\n",
            "907/907 [==============================] - 23s 25ms/step - loss: 0.2635 - accuracy: 0.8993 - val_loss: 0.2383 - val_accuracy: 0.9115\n",
            "Epoch 73/100\n",
            "907/907 [==============================] - 23s 25ms/step - loss: 0.2603 - accuracy: 0.9007 - val_loss: 0.2393 - val_accuracy: 0.9130\n",
            "Epoch 74/100\n",
            "907/907 [==============================] - 23s 26ms/step - loss: 0.2615 - accuracy: 0.9005 - val_loss: 0.2383 - val_accuracy: 0.9090\n",
            "Epoch 75/100\n",
            "907/907 [==============================] - 23s 25ms/step - loss: 0.2612 - accuracy: 0.8997 - val_loss: 0.2344 - val_accuracy: 0.9125\n",
            "Epoch 76/100\n",
            "907/907 [==============================] - 23s 25ms/step - loss: 0.2568 - accuracy: 0.9023 - val_loss: 0.2321 - val_accuracy: 0.9150\n",
            "Epoch 77/100\n",
            "907/907 [==============================] - 23s 26ms/step - loss: 0.2578 - accuracy: 0.9016 - val_loss: 0.2414 - val_accuracy: 0.9095\n",
            "Epoch 78/100\n",
            "907/907 [==============================] - 23s 25ms/step - loss: 0.2607 - accuracy: 0.9007 - val_loss: 0.2462 - val_accuracy: 0.9085\n",
            "Epoch 79/100\n",
            "907/907 [==============================] - 23s 26ms/step - loss: 0.2576 - accuracy: 0.9008 - val_loss: 0.2413 - val_accuracy: 0.9115\n",
            "Epoch 80/100\n",
            "907/907 [==============================] - 23s 25ms/step - loss: 0.2606 - accuracy: 0.8992 - val_loss: 0.2465 - val_accuracy: 0.9065\n",
            "Epoch 81/100\n",
            "907/907 [==============================] - 23s 25ms/step - loss: 0.2582 - accuracy: 0.9027 - val_loss: 0.2363 - val_accuracy: 0.9125\n",
            "Epoch 82/100\n",
            "907/907 [==============================] - 23s 26ms/step - loss: 0.2593 - accuracy: 0.9020 - val_loss: 0.2365 - val_accuracy: 0.9105\n",
            "Epoch 83/100\n",
            "907/907 [==============================] - 23s 25ms/step - loss: 0.2588 - accuracy: 0.9010 - val_loss: 0.2410 - val_accuracy: 0.9120\n",
            "\n",
            "Epoch 00083: ReduceLROnPlateau reducing learning rate to 1.0000000474974514e-05.\n",
            "Epoch 84/100\n",
            "907/907 [==============================] - 24s 26ms/step - loss: 0.2565 - accuracy: 0.9029 - val_loss: 0.2373 - val_accuracy: 0.9125\n",
            "Epoch 85/100\n",
            "907/907 [==============================] - 23s 26ms/step - loss: 0.2581 - accuracy: 0.9020 - val_loss: 0.2376 - val_accuracy: 0.9140\n",
            "Epoch 86/100\n",
            "907/907 [==============================] - 23s 25ms/step - loss: 0.2530 - accuracy: 0.9050 - val_loss: 0.2364 - val_accuracy: 0.9135\n"
          ],
          "name": "stdout"
        }
      ]
    },
    {
      "cell_type": "code",
      "metadata": {
        "id": "Po7ASUUd5Zm5",
        "colab_type": "code",
        "outputId": "e5a92d7f-92a2-4676-db0f-bcfb85eb2045",
        "colab": {
          "base_uri": "https://localhost:8080/",
          "height": 390
        }
      },
      "source": [
        "fig, (ax1,ax2) = plt.subplots(1, 2, figsize=(15,6))\n",
        "\n",
        "ax1.set_title('Loss Graph')\n",
        "ax1.plot(Fit.history['loss'], label='Training Loss')\n",
        "ax1.plot(Fit.history['val_loss'], label='Validation Loss')\n",
        "ax1.legend()\n",
        "\n",
        "ax2.set_title('Accuracy Graph')\n",
        "ax2.plot(Fit.history['accuracy'], label='Training Accuracy')\n",
        "ax2.plot(Fit.history['val_accuracy'], label='Validation Accuracy')\n",
        "ax2.legend()\n",
        "\n",
        "plt.show()"
      ],
      "execution_count": 0,
      "outputs": [
        {
          "output_type": "display_data",
          "data": {
            "image/png": "[encoded data removed]",
            "text/plain": [
              "<Figure size 1080x432 with 2 Axes>"
            ]
          },
          "metadata": {
            "tags": [],
            "needs_background": "light"
          }
        }
      ]
    },
    {
      "cell_type": "code",
      "metadata": {
        "id": "gUnfIWzmBjnR",
        "colab_type": "code",
        "colab": {}
      },
      "source": [
        "from keras.models import load_model\n",
        "model = load_model('/content/mdl_wts.hdf5')"
      ],
      "execution_count": 0,
      "outputs": []
    },
    {
      "cell_type": "code",
      "metadata": {
        "id": "7p097Wu3SqaD",
        "colab_type": "code",
        "outputId": "15a9e49d-15df-4711-ad1b-6fdf6a5640a2",
        "colab": {
          "base_uri": "https://localhost:8080/",
          "height": 118
        }
      },
      "source": [
        "print('Test Accuracy : ', lenet.evaluate(X_test, y_test)[1])\n",
        "print('Train Accuracy : ', lenet.evaluate(X_train, y_train)[1])\n",
        "print('Validation Accuracy : ', lenet.evaluate(X_valid, y_valid)[1])"
      ],
      "execution_count": 0,
      "outputs": [
        {
          "output_type": "stream",
          "text": [
            "10000/10000 [==============================] - 1s 80us/step\n",
            "Test Accuracy :  0.9090999960899353\n",
            "58000/58000 [==============================] - 5s 80us/step\n",
            "Train Accuracy :  0.9227069020271301\n",
            "2000/2000 [==============================] - 0s 86us/step\n",
            "Validation Accuracy :  0.9135000109672546\n"
          ],
          "name": "stdout"
        }
      ]
    },
    {
      "cell_type": "markdown",
      "metadata": {
        "id": "EumU6FdeaNpA",
        "colab_type": "text"
      },
      "source": [
        "## Evaluation Info\n",
        "\n",
        "*   **Model :** LeNet5\n",
        "*   **Training Accuracy :** 92.27%\n",
        "*   **Validation Accuracy :** 91.35%\n",
        "*   **Test Accuracy :** 90.91%"
      ]
    },
    {
      "cell_type": "markdown",
      "metadata": {
        "id": "JTUww0KPZMht",
        "colab_type": "text"
      },
      "source": [
        "# Personal Thoughts\n",
        "I expected the result to go down after data augmentation, which is not what you'd expect norrmally. But MNIST and Fashion MNIST datasets are quite well-behaved in the context that images of the same class have almost the same size and orientation distribution. Hence data augmentation would only introduce unnecessary randomness in the training data which is not reflected in the validation or test data.\n",
        "\n",
        "This can also be inferred from the fact that the validation accuracy remained higher than train accuracy, which isn't what you exoect but fits perfectly if you take my previous deductions into consideration.\n",
        "\n",
        "**Alternative :** I believe regularisation should do much better on simple datasets like this one. Dropout regularisation has been depicted below."
      ]
    },
    {
      "cell_type": "markdown",
      "metadata": {
        "id": "lrFDT1xmc1w_",
        "colab_type": "text"
      },
      "source": [
        "## Dropout Approach"
      ]
    },
    {
      "cell_type": "code",
      "metadata": {
        "id": "k8XuSsP9TBuK",
        "colab_type": "code",
        "outputId": "9d9ec1eb-7114-4d7b-ec55-4a23e9b08710",
        "colab": {
          "base_uri": "https://localhost:8080/",
          "height": 34
        }
      },
      "source": [
        "from tqdm import tqdm\n",
        "for i in tqdm(range(10000)):\n",
        "    pass"
      ],
      "execution_count": 0,
      "outputs": [
        {
          "output_type": "stream",
          "text": [
            "100%|██████████| 10000/10000 [00:00<00:00, 1159063.75it/s]\n"
          ],
          "name": "stderr"
        }
      ]
    },
    {
      "cell_type": "code",
      "metadata": {
        "id": "1ib5iOUZVsCa",
        "colab_type": "code",
        "colab": {}
      },
      "source": [
        ""
      ],
      "execution_count": 0,
      "outputs": []
    }
  ]
}